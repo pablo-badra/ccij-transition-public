{
 "cells": [
  {
   "cell_type": "code",
   "execution_count": null,
   "id": "f70565ec-a09d-4492-8b71-31d0ce10f118",
   "metadata": {},
   "outputs": [],
   "source": [
    "import pandas as pd\n",
    "import numpy as np\n",
    "import os\n",
    "from ccij_clean import create\n",
    "pd.options.display.max_rows = 1000\n",
    "pd.options.display.max_columns = 100\n",
    "pd.options.display.max_colwidth = None"
   ]
  },
  {
   "cell_type": "code",
   "execution_count": null,
   "id": "465ab065-b1ce-4b8d-afc4-4c6ca77e6bc7",
   "metadata": {},
   "outputs": [],
   "source": [
    "cwd = os.getcwd().strip('python_files')\n",
    "cwd"
   ]
  },
  {
   "cell_type": "code",
   "execution_count": null,
   "id": "4855aa78-217c-4f50-a619-fb7420a426f1",
   "metadata": {},
   "outputs": [],
   "source": [
    "comb = create.create()\n",
    "df = pd.read_csv(cwd+'data/raw_csv_files/casenotes/case_comments.csv', usecols=['record_id', 'caseaction_id', 'actionDate', 'created_by_id', 'comment', 'caseevent_id'])\n",
    "transfer, gsa, golden = pd.read_csv(cwd+'data/raw_csv_files/casenotes/transfer.csv', usecols=['record_id', 'caseaction_id', 'actionDate', 'created_by_id', 'comment', 'caseevent_id']), pd.read_csv(cwd+'data/raw_csv_files/casenotes/gsa.csv', usecols=['record_id', 'caseaction_id', 'actionDate', 'created_by_id', 'comment', 'caseevent_id']), pd.read_csv(cwd+'data/raw_csv_files/casenotes/golden.csv', usecols=['record_id', 'caseaction_id', 'actionDate', 'created_by_id', 'comment', 'caseevent_id'])\n",
    "df2 = pd.concat([transfer, gsa, golden])\n",
    "df2 = df2.loc[~df2.caseevent_id.duplicated(), :]\n",
    "df2.caseaction_id.replace(to_replace='@MVDF', value='Transfer', inplace=True)\n"
   ]
  },
  {
   "cell_type": "code",
   "execution_count": null,
   "id": "eab10852-a336-4029-b7c9-6b1512c1e427",
   "metadata": {},
   "outputs": [],
   "source": [
    "df = pd.concat([df,df2])"
   ]
  },
  {
   "cell_type": "code",
   "execution_count": null,
   "id": "e4f897d9-5f9a-48ed-8afa-16cc8ae074b9",
   "metadata": {},
   "outputs": [],
   "source": [
    "comb.head()"
   ]
  },
  {
   "cell_type": "code",
   "execution_count": null,
   "id": "7084ff82-976d-45d4-8a5a-5cfd02eba5b8",
   "metadata": {},
   "outputs": [],
   "source": [
    "ids = pd.DataFrame(comb.loc[:,'record_id'])\n",
    "ids = ids.loc[~ids.record_id.duplicated(),:]"
   ]
  },
  {
   "cell_type": "code",
   "execution_count": null,
   "id": "113b7a6b-a93d-421e-94e3-c54726918180",
   "metadata": {},
   "outputs": [],
   "source": [
    "df['record_id'] = df['record_id'].astype('str')"
   ]
  },
  {
   "cell_type": "code",
   "execution_count": null,
   "id": "a78ecf3b-24d8-429c-80ec-ea3cc73abaa6",
   "metadata": {},
   "outputs": [],
   "source": [
    "merged = pd.merge(ids, df, on='record_id')"
   ]
  },
  {
   "cell_type": "code",
   "execution_count": null,
   "id": "d5e134e7-92aa-4a32-bca9-9b6d1250074e",
   "metadata": {},
   "outputs": [],
   "source": [
    "merged.rename(columns = {'actionDate':'action_date', 'created_by_id':'created_by'}, inplace=True)\n"
   ]
  },
  {
   "cell_type": "code",
   "execution_count": null,
   "id": "9dab1981-b817-46ac-ac4a-cbd7c78aff72",
   "metadata": {},
   "outputs": [],
   "source": [
    "merged.tail()"
   ]
  },
  {
   "cell_type": "code",
   "execution_count": null,
   "id": "fccde02b-aef9-429b-8818-aff3cb093a34",
   "metadata": {},
   "outputs": [],
   "source": [
    "ids.shape"
   ]
  },
  {
   "cell_type": "code",
   "execution_count": null,
   "id": "07cbc34f-7536-4929-8a6f-482f1b920d98",
   "metadata": {},
   "outputs": [],
   "source": [
    "merged.caseaction_id.value_counts()"
   ]
  },
  {
   "cell_type": "code",
   "execution_count": null,
   "id": "7432eafc-8dc2-44ef-a89b-13442983e1e0",
   "metadata": {},
   "outputs": [],
   "source": [
    "merged.created_by = merged.created_by.fillna(value='AUTO_ADMIN')"
   ]
  },
  {
   "cell_type": "code",
   "execution_count": null,
   "id": "1ed2f474-5d24-4517-aebc-949328f775b9",
   "metadata": {},
   "outputs": [],
   "source": []
  },
  {
   "cell_type": "markdown",
   "id": "9bc53a3a-66a4-46e9-8013-4308918478d5",
   "metadata": {},
   "source": [
    "**going to drop a lot of caseaction types, keeping the essentials for now**"
   ]
  },
  {
   "cell_type": "code",
   "execution_count": null,
   "id": "515446ba-123a-4c44-9b7b-f6986a78e79e",
   "metadata": {},
   "outputs": [],
   "source": [
    "keep = ['Case Note', 'Legal Help (other)', 'Legal Call/Consult', 'Legal Consult w/Atty','Referred'\n",
    "                              'Attorney Retained', 'Placed w/ Pro Bono','Franco (Maybe)', 'Transfer', 'Task', '@Yuba','Detention Conditions','Repeat CCIJ Hotline','AOD Repeat', 'CALL-UP']\n",
    "drop = ['Hearing Date', 'Master Hearing', \"@MVDF\",\n",
    "        'Individual Hearing','Filing','Other Hearing Type','Court Hearing','Document Received','Repeat Intake','Client Meeting',\n",
    "        'Client Meeting','Deadline', 'Intake Form','@Golden State','Repeat CCIJ Hotline','AOD Repeat','@Yuba','CALL-UP','Task','PRAP','AILA Case Summary','@Otay Mesa',\n",
    "                        'CrimmHistory','ICE Appointment','Screened','@Imperial','@Adelanto','@Desert View Annex']"
   ]
  },
  {
   "cell_type": "code",
   "execution_count": null,
   "id": "dbb5e5eb-be95-450b-a065-780604048172",
   "metadata": {},
   "outputs": [],
   "source": [
    "#df1 = merged.loc[~merged['caseaction_id'].isin(drop),:]\n",
    "df1 = merged"
   ]
  },
  {
   "cell_type": "markdown",
   "id": "d3173b75-52e6-4389-a25e-eb4befbd1ba3",
   "metadata": {},
   "source": [
    "**relabeling legal call consult to legal consult w/ atty**"
   ]
  },
  {
   "cell_type": "code",
   "execution_count": null,
   "id": "a6c5b785-6587-4a28-9c2b-132f862aa331",
   "metadata": {},
   "outputs": [],
   "source": [
    "df1.replace(to_replace='Legal Call/Consult', value='Legal Consult w/Atty', inplace=True)"
   ]
  },
  {
   "cell_type": "markdown",
   "id": "aa409a3c-505e-4e47-b289-0daaee40b04c",
   "metadata": {},
   "source": [
    "**relabeling for better exporting later**"
   ]
  },
  {
   "cell_type": "code",
   "execution_count": null,
   "id": "64402e5b-c9d8-4d6e-a7c2-60a792494706",
   "metadata": {},
   "outputs": [],
   "source": [
    "df1.replace(to_replace='Legal Consult w/Atty', value='Legal Consult with an Attorney', inplace=True)\n",
    "df1.replace(to_replace='Placed w/ Pro Bono', value='Placed with Pro Bono', inplace=True)\n",
    "df1.replace(to_replace='Franco (Maybe)', value='Franco - Maybe', inplace=True)\n",
    "df1.replace(to_replace='Health Advocacy', value='Detention Conditions', inplace=True)\n",
    "#df1.replace(to_replace='Legal Help (other)', value='Case Note', inplace=True)\n",
    "df1.replace(to_replace='VEED Task', value='VEED', inplace=True)\n",
    "df1.replace(to_replace='VEED (vaccine) flag', value='VEED', inplace=True)\n",
    "df1.replace(to_replace=drop,value='Case Note', inplace=True)\n",
    "df1.replace(to_replace=r'(\\*\\*)', value='',regex=True,inplace=True)\n",
    "df1.replace(to_replace=r'(\\r\\n\\r\\n)', value=' ',regex=True,inplace=True)\n",
    "df1.replace(to_replace=r'(\\r\\n)', value=' ',regex=True,inplace=True)"
   ]
  },
  {
   "cell_type": "code",
   "execution_count": null,
   "id": "a957e986-d638-4a6f-b0a9-583b23b26945",
   "metadata": {},
   "outputs": [],
   "source": [
    "df1.caseaction_id.value_counts()"
   ]
  },
  {
   "cell_type": "code",
   "execution_count": null,
   "id": "492ff235-393a-44d7-8718-7603988a7f53",
   "metadata": {},
   "outputs": [],
   "source": [
    "df1 = df1.sort_values(by='record_id')\n",
    "df1 = df1.reset_index()\n",
    "df1['unique_id'] = df1['record_id'].astype(str)\n",
    "df1.drop(labels=['index','caseevent_id'], axis=1, inplace = True)\n",
    "df1 = df1[['record_id','unique_id','caseaction_id', 'action_date', 'created_by', 'comment']]"
   ]
  },
  {
   "cell_type": "code",
   "execution_count": null,
   "id": "5ea76f1b-503c-4f28-ada5-07d76c9dae67",
   "metadata": {},
   "outputs": [],
   "source": [
    "df1.tail()"
   ]
  },
  {
   "cell_type": "code",
   "execution_count": null,
   "id": "25deee44-ba2f-4a18-aac6-90c18c72a804",
   "metadata": {},
   "outputs": [],
   "source": [
    "lh = df1[df1['caseaction_id']=='Legal Help (other)']"
   ]
  },
  {
   "cell_type": "code",
   "execution_count": null,
   "id": "c634d042-2195-439a-b4aa-a186c1c22983",
   "metadata": {},
   "outputs": [],
   "source": [
    "m1 = lh[lh['comment'].str.startswith(('mail','Mail','mailed','Mailed','send','Send','sent','Sent'))]\n",
    "m2 = lh[lh['comment'].str.contains(r'(?i)Legal Assistance Provided.*mail|Legal Assistance Provided.*send|Legal Assistance Provided.*sent|Legal Assistance Provided.*provided', regex=True)]\n",
    "m3 = lh[lh['comment'].str.contains(r'(?i)Legal Assistance Provided.*kk emailed|Legal Assistance Provided.*kk spoke|Legal Assistance Provided.*kk texted|Legal Assistance Provided.*kk forwarded|Legal Assistance Provided.*kk submitted|Legal Assistance Provided.*kk called|Legal Assistance Provided.*Dad natz|Legal Assistance Provided.*kk requested|Legal Assistance Provided.*kk tried|Legal Assistance Provided.*kk observed|Legal Assistance Provided.*kk completed|Legal Assistance Provided.*kk left', regex=True)]\n",
    "m4 = lh[lh['comment'].str.startswith(('Mailed: Drafted letter for Ricardo','Mailed: NOA and fee waiver to BIA','Mailed: KK emailed in brief on appeal','Mailed: KK mailed BIA signed copy of NOA','Mailed: KK email filed translated declaration w/ EOIR','Other: We translated 2 denuncias','Contacted Family: KK had long','Mailed: Email filed bond evidence','Mailed: LK spoke w/Carlos.','Mailed: Friend of court letter','Legal Assistance Provided Emailed ERO, see below from','Researched, Called and Emailed','Legal Assistance Provided - KK rcvd. fax','Contacted Family: KK called & emailed daughter','Legal Assistance Provided Emailed DO Kroman','Legal Assistance Provided Monica spoke','Legal Assistance Provided - his dad texted KK on Friday','Legal Assistance Provided - KK sent bullet point','Legal Assistance Provided SM spoke to','Legal Assistance Provided: TK spoke with Omar','Legal Assistance Provided SM talked to Omar and told','Legal Assistance Provided Steph spoke to', 'Legal Assistance Provided - KK Priority Mailed Re-Submission', 'Legal Assistance Provided - KK Priority Mailed Re-Submission','Mailed: LK spoke w/Carlos.','Legal Assistance Provided Emailed ERO, see below from:','Legal Assistance Provided Steph'))]"
   ]
  },
  {
   "cell_type": "code",
   "execution_count": null,
   "id": "5ba37bec-8e82-4e58-9cc2-4b7f0b531057",
   "metadata": {},
   "outputs": [],
   "source": []
  },
  {
   "cell_type": "code",
   "execution_count": null,
   "id": "740a34af-483e-40cf-9077-f7d9263bfe17",
   "metadata": {},
   "outputs": [],
   "source": [
    "m = lh.loc[(m1.index|m2.index),:]\n",
    "m = m.loc[~m.index.isin(m3.index),:]\n",
    "m = m.loc[~m.index.isin(m4.index),:]"
   ]
  },
  {
   "cell_type": "code",
   "execution_count": null,
   "id": "338c9c54-280f-46b6-bd50-4970aa3f2525",
   "metadata": {},
   "outputs": [],
   "source": [
    "df1.loc[m.index,'caseaction_id']='Mailed Items'"
   ]
  },
  {
   "cell_type": "code",
   "execution_count": null,
   "id": "34203007-6e4f-4acf-8e0b-3c5e93411514",
   "metadata": {},
   "outputs": [],
   "source": [
    "df1.caseaction_id.replace(to_replace='Legal Help (other)',value='Prose+ and Legal Services', inplace=True)"
   ]
  },
  {
   "cell_type": "code",
   "execution_count": null,
   "id": "1556b494-a8c1-411b-a559-15fbb8ef9756",
   "metadata": {},
   "outputs": [],
   "source": [
    "df1.caseaction_id.value_counts()"
   ]
  },
  {
   "cell_type": "code",
   "execution_count": null,
   "id": "6e0e91a6-01bf-409e-a4dd-879bffa5677f",
   "metadata": {},
   "outputs": [],
   "source": [
    "casetypes = list(df1.caseaction_id.value_counts().index)"
   ]
  },
  {
   "cell_type": "code",
   "execution_count": null,
   "id": "a3205b74-56e6-41f9-88d8-aff104551592",
   "metadata": {},
   "outputs": [],
   "source": [
    "d = {casetype: df1[df1['caseaction_id']==casetype] for casetype in casetypes}"
   ]
  },
  {
   "cell_type": "code",
   "execution_count": null,
   "id": "d9eeca96-6614-4319-8050-aae9cd22ed18",
   "metadata": {},
   "outputs": [],
   "source": [
    "for name, frame in d.items():\n",
    "    print(name)"
   ]
  },
  {
   "cell_type": "code",
   "execution_count": null,
   "id": "e2192b9c-e415-4f44-833c-e472d6262d39",
   "metadata": {},
   "outputs": [],
   "source": [
    "def casenotes(df):\n",
    "    casetypes = list(df.caseaction_id.value_counts().index)\n",
    "    d = {casetype: df[df['caseaction_id']==casetype] for casetype in casetypes}\n",
    "    for name, frame in d.items():\n",
    "        frame = frame.set_index('unique_id')\n",
    "        frame.index = frame.index + ' - ' + (frame.groupby(level=0).cumcount().astype(int)+1).astype(str)\n",
    "        frame = frame.reset_index()\n",
    "        frame.columns = frame.columns.str.replace('index', 'unique_id')\n",
    "        d[name] = frame\n",
    "    return d"
   ]
  },
  {
   "cell_type": "code",
   "execution_count": null,
   "id": "e9e6e1c2-f607-4fb7-a6a6-3e7f13f9f670",
   "metadata": {},
   "outputs": [],
   "source": [
    "casenotes = casenotes(df1)"
   ]
  },
  {
   "cell_type": "code",
   "execution_count": null,
   "id": "579301f7-9186-4d62-be1e-6afb312736dc",
   "metadata": {},
   "outputs": [],
   "source": [
    "casenotes['Attorney Retained'].unique_id.value_counts()"
   ]
  },
  {
   "cell_type": "code",
   "execution_count": null,
   "id": "8abed416-6a81-44c4-afd3-2b2004bbef62",
   "metadata": {},
   "outputs": [],
   "source": [
    "def create_csv(casenotes):\n",
    "    for name, df in casenotes.items():\n",
    "        df.to_csv(cwd+'data/exported_files/casenotes/' + str(name) +'.csv')"
   ]
  },
  {
   "cell_type": "code",
   "execution_count": null,
   "id": "a3770401-0a48-46ba-9588-587de854b172",
   "metadata": {},
   "outputs": [],
   "source": [
    "create_csv(casenotes)"
   ]
  },
  {
   "cell_type": "code",
   "execution_count": null,
   "id": "7547037d-5eef-4516-93c7-075a2c87cba6",
   "metadata": {},
   "outputs": [],
   "source": [
    "fix = casenotes['Case Note']"
   ]
  },
  {
   "cell_type": "code",
   "execution_count": null,
   "id": "c1e26ffb-1d10-4308-97a3-79052f1d1a2d",
   "metadata": {},
   "outputs": [],
   "source": [
    "fix[fix['action_date']>'2022-10-03'].sort_values('action_date').to_csv('/Users/stjames/Dropbox/Pablo/casenote_delta.csv')"
   ]
  }
 ],
 "metadata": {
  "kernelspec": {
   "display_name": "Python 3 (ipykernel)",
   "language": "python",
   "name": "python3"
  },
  "language_info": {
   "codemirror_mode": {
    "name": "ipython",
    "version": 3
   },
   "file_extension": ".py",
   "mimetype": "text/x-python",
   "name": "python",
   "nbconvert_exporter": "python",
   "pygments_lexer": "ipython3",
   "version": "3.9.7"
  }
 },
 "nbformat": 4,
 "nbformat_minor": 5
}
