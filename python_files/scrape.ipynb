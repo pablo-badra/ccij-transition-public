{
 "cells": [
  {
   "cell_type": "code",
   "execution_count": 2,
   "id": "ef8732f4-e7fe-4ba5-812d-0708efa163c9",
   "metadata": {},
   "outputs": [],
   "source": [
    "import pandas as pd\n",
    "import numpy as np\n",
    "import seaborn as sns\n",
    "import matplotlib.pyplot as plt\n",
    "from ccij_clean import create\n",
    "import os\n",
    "\n",
    "pd.options.display.max_columns = 30\n",
    "pd.options.display.max_rows = 1300"
   ]
  },
  {
   "cell_type": "code",
   "execution_count": 11,
   "id": "4ac66f2e-17cb-401d-a5ac-3d35587acac2",
   "metadata": {},
   "outputs": [
    {
     "data": {
      "text/plain": [
       "'/Users/stjames/Dropbox/Pablo/data/ccij-transition/python_files'"
      ]
     },
     "execution_count": 11,
     "metadata": {},
     "output_type": "execute_result"
    }
   ],
   "source": [
    "os.getcwd()"
   ]
  },
  {
   "cell_type": "code",
   "execution_count": 12,
   "id": "58e3dea2-ce3b-4c69-9277-453ffcbf1362",
   "metadata": {},
   "outputs": [],
   "source": [
    "cwd = os.getcwd().strip('python_files')"
   ]
  },
  {
   "cell_type": "code",
   "execution_count": 13,
   "id": "7b00d86c-96fa-4d49-8f26-774bd3904acf",
   "metadata": {},
   "outputs": [
    {
     "name": "stdout",
     "output_type": "stream",
     "text": [
      "Koreans and nan converted to Asian/Pacific Islander index= 20210136\n",
      "Arabs and nan converted to Other index= 20210137\n",
      "Portuguese and nan converted to White index= 20210209\n",
      "Lebanese and nan converted to Other index= 20210261\n",
      "Armenians and Other converted to White index= 20210265\n",
      "Armenians and nan converted to White index= 20220018\n",
      "Arabs and nan converted to Other index= 20220042\n",
      "Arabs and nan converted to Other index= 20220195\n",
      "Arabs and nan converted to Other index= 20220221\n",
      "Arabs and nan converted to Other index= 20220260\n",
      "Armenians and Other converted to White index= 20220301\n",
      "Latino and nan converted to Latino index= 20220311\n",
      "Latino and nan converted to Latino index= 20220318\n",
      "Latino and nan converted to Latino index= 20200084\n",
      "Hindustani and nan converted to Asian/Pacific Islander index= 20200161\n",
      "Russians and nan converted to White index= 20200228\n",
      "Latino and nan converted to Latino index= 20200301\n",
      "Arabs and Other converted to Other index= 20200311\n",
      "Latino and Other converted to Latino index= 20200315\n",
      "Latino and Other converted to Latino index= 20200326\n",
      "Tajiks and Other converted to Asian/Pacific Islander index= 20200414\n",
      "Latino and nan converted to Latino index= 20200451\n",
      "Arabs and Other converted to Other index= 20200635\n",
      "Russians and nan converted to White index= 20210212\n",
      "Ukrainians and nan converted to White index= 20210222\n",
      "Latino and Other converted to Latino index= 20210333\n",
      "Latino and nan converted to Latino index= 20210229\n",
      "Latino and nan converted to Latino index= 20220227\n"
     ]
    },
    {
     "name": "stderr",
     "output_type": "stream",
     "text": [
      "/Users/stjames/Dropbox/Pablo/data/ccij-transition/python_files/ccij_clean/create.py:170: SettingWithCopyWarning: \n",
      "A value is trying to be set on a copy of a slice from a DataFrame.\n",
      "Try using .loc[row_indexer,col_indexer] = value instead\n",
      "\n",
      "See the caveats in the documentation: https://pandas.pydata.org/pandas-docs/stable/user_guide/indexing.html#returning-a-view-versus-a-copy\n",
      "  df[df['casetype']=='GSA-KYR']['casetype'] = 'Remote Clinic'\n"
     ]
    }
   ],
   "source": [
    "df = create.create()"
   ]
  },
  {
   "cell_type": "code",
   "execution_count": 9,
   "id": "df7eab5e-d1d3-4b9b-9079-9803925c9ee9",
   "metadata": {},
   "outputs": [],
   "source": [
    "df = create.extref()"
   ]
  },
  {
   "cell_type": "code",
   "execution_count": 115,
   "id": "6c877d5a-e94f-46c1-a588-fcdf87d09b53",
   "metadata": {},
   "outputs": [],
   "source": [
    "df = df.reset_index()"
   ]
  },
  {
   "cell_type": "code",
   "execution_count": null,
   "id": "dfb4e0a1-11e6-4361-9b8e-90aa9c73d7dc",
   "metadata": {},
   "outputs": [],
   "source": []
  },
  {
   "cell_type": "markdown",
   "id": "aa75470a-9632-4e59-84fc-3bbb97ca8601",
   "metadata": {},
   "source": [
    "creating the folders"
   ]
  },
  {
   "cell_type": "code",
   "execution_count": 116,
   "id": "fee288c8-2018-4f6b-8284-c32756fbe764",
   "metadata": {},
   "outputs": [],
   "source": [
    "def create_folder(df):\n",
    "    parent_dir = '/Volumes/TOSHIBA/LawLab'\n",
    "    for x in df.record_id.values:\n",
    "        path = os.path.join(parent_dir,str(x))\n",
    "        os.mkdir(path)"
   ]
  },
  {
   "cell_type": "markdown",
   "id": "b8c9a05b-726f-447d-bfc0-f513ef0e565d",
   "metadata": {},
   "source": [
    "change the markdown below to code when ready to do again"
   ]
  },
  {
   "cell_type": "markdown",
   "id": "c4361b4d-88d4-4ad3-b92c-8f5664dac22b",
   "metadata": {},
   "source": [
    "create_folder(df)\n"
   ]
  },
  {
   "cell_type": "markdown",
   "id": "206f2d59-2ea4-4d42-bf4b-4616f9474f5f",
   "metadata": {},
   "source": [
    "downloading the file"
   ]
  },
  {
   "cell_type": "code",
   "execution_count": 117,
   "id": "ee110257-3871-4e16-8c6e-07f52ceebca1",
   "metadata": {},
   "outputs": [],
   "source": [
    "df = df.set_index('record_id')"
   ]
  },
  {
   "cell_type": "code",
   "execution_count": null,
   "id": "cf787ae2-2b61-4b07-8ca2-39ce4269d4d8",
   "metadata": {},
   "outputs": [],
   "source": []
  },
  {
   "cell_type": "code",
   "execution_count": 3,
   "id": "c3d80751-7094-4940-8c66-0e1dd197b3d8",
   "metadata": {},
   "outputs": [],
   "source": [
    "import selenium\n",
    "from selenium import webdriver\n",
    "from selenium.webdriver.common.by import By\n",
    "from selenium.webdriver.chrome.options import Options\n",
    "import time\n",
    "import os"
   ]
  },
  {
   "cell_type": "code",
   "execution_count": 120,
   "id": "d14bf9e8-c4cb-4ae1-a1aa-d37e6b5e6de2",
   "metadata": {},
   "outputs": [
    {
     "name": "stderr",
     "output_type": "stream",
     "text": [
      "/var/folders/nq/c298dxfn1sgcvrvkkcwthl980000gn/T/ipykernel_68170/2166229032.py:7: DeprecationWarning: executable_path has been deprecated, please pass in a Service object\n",
      "  driver = webdriver.Chrome(chromedriver, chrome_options=op)\n",
      "/var/folders/nq/c298dxfn1sgcvrvkkcwthl980000gn/T/ipykernel_68170/2166229032.py:7: DeprecationWarning: use options instead of chrome_options\n",
      "  driver = webdriver.Chrome(chromedriver, chrome_options=op)\n"
     ]
    },
    {
     "ename": "WebDriverException",
     "evalue": "Message: unknown error: cannot create temp dir for user data dir\nStacktrace:\n0   chromedriver                        0x0000000105f55f38 chromedriver + 4910904\n1   chromedriver                        0x0000000105ed5a03 chromedriver + 4385283\n2   chromedriver                        0x0000000105b1a747 chromedriver + 472903\n3   chromedriver                        0x0000000105b45a50 chromedriver + 649808\n4   chromedriver                        0x0000000105b434a2 chromedriver + 640162\n5   chromedriver                        0x0000000105b8e460 chromedriver + 947296\n6   chromedriver                        0x0000000105b8dcbf chromedriver + 945343\n7   chromedriver                        0x0000000105b84ee3 chromedriver + 909027\n8   chromedriver                        0x0000000105b4f30c chromedriver + 688908\n9   chromedriver                        0x0000000105b5088e chromedriver + 694414\n10  chromedriver                        0x0000000105f231de chromedriver + 4702686\n11  chromedriver                        0x0000000105f27b19 chromedriver + 4721433\n12  chromedriver                        0x0000000105f2f28e chromedriver + 4752014\n13  chromedriver                        0x0000000105f2891a chromedriver + 4725018\n14  chromedriver                        0x0000000105efcb02 chromedriver + 4545282\n15  chromedriver                        0x0000000105f47888 chromedriver + 4851848\n16  chromedriver                        0x0000000105f47a05 chromedriver + 4852229\n17  chromedriver                        0x0000000105f5de5f chromedriver + 4943455\n18  libsystem_pthread.dylib             0x00007ff819a4b4e1 _pthread_start + 125\n19  libsystem_pthread.dylib             0x00007ff819a46f6b thread_start + 15\n",
     "output_type": "error",
     "traceback": [
      "\u001b[0;31m---------------------------------------------------------------------------\u001b[0m",
      "\u001b[0;31mWebDriverException\u001b[0m                        Traceback (most recent call last)",
      "\u001b[0;32m/var/folders/nq/c298dxfn1sgcvrvkkcwthl980000gn/T/ipykernel_68170/2166229032.py\u001b[0m in \u001b[0;36m<module>\u001b[0;34m\u001b[0m\n\u001b[1;32m      5\u001b[0m         \u001b[0mop\u001b[0m\u001b[0;34m.\u001b[0m\u001b[0madd_experimental_option\u001b[0m\u001b[0;34m(\u001b[0m\u001b[0;34m'prefs'\u001b[0m\u001b[0;34m,\u001b[0m\u001b[0;34m{\u001b[0m\u001b[0;34m'download.default_directory'\u001b[0m\u001b[0;34m:\u001b[0m\u001b[0mfolder\u001b[0m\u001b[0;34m}\u001b[0m\u001b[0;34m)\u001b[0m\u001b[0;34m\u001b[0m\u001b[0;34m\u001b[0m\u001b[0m\n\u001b[1;32m      6\u001b[0m         \u001b[0mchromedriver\u001b[0m \u001b[0;34m=\u001b[0m \u001b[0;34m'/Users/stjames/Documents/chromedriver'\u001b[0m\u001b[0;34m\u001b[0m\u001b[0;34m\u001b[0m\u001b[0m\n\u001b[0;32m----> 7\u001b[0;31m         \u001b[0mdriver\u001b[0m \u001b[0;34m=\u001b[0m \u001b[0mwebdriver\u001b[0m\u001b[0;34m.\u001b[0m\u001b[0mChrome\u001b[0m\u001b[0;34m(\u001b[0m\u001b[0mchromedriver\u001b[0m\u001b[0;34m,\u001b[0m \u001b[0mchrome_options\u001b[0m\u001b[0;34m=\u001b[0m\u001b[0mop\u001b[0m\u001b[0;34m)\u001b[0m\u001b[0;34m\u001b[0m\u001b[0;34m\u001b[0m\u001b[0m\n\u001b[0m\u001b[1;32m      8\u001b[0m         \u001b[0mdriver\u001b[0m\u001b[0;34m.\u001b[0m\u001b[0mimplicitly_wait\u001b[0m\u001b[0;34m(\u001b[0m\u001b[0;36m10\u001b[0m\u001b[0;34m)\u001b[0m\u001b[0;34m\u001b[0m\u001b[0;34m\u001b[0m\u001b[0m\n\u001b[1;32m      9\u001b[0m         \u001b[0mdriver\u001b[0m\u001b[0;34m.\u001b[0m\u001b[0mget\u001b[0m\u001b[0;34m(\u001b[0m\u001b[0murl\u001b[0m\u001b[0;34m)\u001b[0m\u001b[0;34m\u001b[0m\u001b[0;34m\u001b[0m\u001b[0m\n",
      "\u001b[0;32m~/.local/lib/python3.9/site-packages/selenium/webdriver/chrome/webdriver.py\u001b[0m in \u001b[0;36m__init__\u001b[0;34m(self, executable_path, port, options, service_args, desired_capabilities, service_log_path, chrome_options, service, keep_alive)\u001b[0m\n\u001b[1;32m     68\u001b[0m             \u001b[0mservice\u001b[0m \u001b[0;34m=\u001b[0m \u001b[0mService\u001b[0m\u001b[0;34m(\u001b[0m\u001b[0mexecutable_path\u001b[0m\u001b[0;34m,\u001b[0m \u001b[0mport\u001b[0m\u001b[0;34m,\u001b[0m \u001b[0mservice_args\u001b[0m\u001b[0;34m,\u001b[0m \u001b[0mservice_log_path\u001b[0m\u001b[0;34m)\u001b[0m\u001b[0;34m\u001b[0m\u001b[0;34m\u001b[0m\u001b[0m\n\u001b[1;32m     69\u001b[0m \u001b[0;34m\u001b[0m\u001b[0m\n\u001b[0;32m---> 70\u001b[0;31m         super(WebDriver, self).__init__(DesiredCapabilities.CHROME['browserName'], \"goog\",\n\u001b[0m\u001b[1;32m     71\u001b[0m                                         \u001b[0mport\u001b[0m\u001b[0;34m,\u001b[0m \u001b[0moptions\u001b[0m\u001b[0;34m,\u001b[0m\u001b[0;34m\u001b[0m\u001b[0;34m\u001b[0m\u001b[0m\n\u001b[1;32m     72\u001b[0m                                         \u001b[0mservice_args\u001b[0m\u001b[0;34m,\u001b[0m \u001b[0mdesired_capabilities\u001b[0m\u001b[0;34m,\u001b[0m\u001b[0;34m\u001b[0m\u001b[0;34m\u001b[0m\u001b[0m\n",
      "\u001b[0;32m~/.local/lib/python3.9/site-packages/selenium/webdriver/chromium/webdriver.py\u001b[0m in \u001b[0;36m__init__\u001b[0;34m(self, browser_name, vendor_prefix, port, options, service_args, desired_capabilities, service_log_path, service, keep_alive)\u001b[0m\n\u001b[1;32m     91\u001b[0m \u001b[0;34m\u001b[0m\u001b[0m\n\u001b[1;32m     92\u001b[0m         \u001b[0;32mtry\u001b[0m\u001b[0;34m:\u001b[0m\u001b[0;34m\u001b[0m\u001b[0;34m\u001b[0m\u001b[0m\n\u001b[0;32m---> 93\u001b[0;31m             RemoteWebDriver.__init__(\n\u001b[0m\u001b[1;32m     94\u001b[0m                 \u001b[0mself\u001b[0m\u001b[0;34m,\u001b[0m\u001b[0;34m\u001b[0m\u001b[0;34m\u001b[0m\u001b[0m\n\u001b[1;32m     95\u001b[0m                 command_executor=ChromiumRemoteConnection(\n",
      "\u001b[0;32m~/.local/lib/python3.9/site-packages/selenium/webdriver/remote/webdriver.py\u001b[0m in \u001b[0;36m__init__\u001b[0;34m(self, command_executor, desired_capabilities, browser_profile, proxy, keep_alive, file_detector, options)\u001b[0m\n\u001b[1;32m    266\u001b[0m         \u001b[0mself\u001b[0m\u001b[0;34m.\u001b[0m\u001b[0mfile_detector\u001b[0m \u001b[0;34m=\u001b[0m \u001b[0mfile_detector\u001b[0m \u001b[0;32mor\u001b[0m \u001b[0mLocalFileDetector\u001b[0m\u001b[0;34m(\u001b[0m\u001b[0;34m)\u001b[0m\u001b[0;34m\u001b[0m\u001b[0;34m\u001b[0m\u001b[0m\n\u001b[1;32m    267\u001b[0m         \u001b[0mself\u001b[0m\u001b[0;34m.\u001b[0m\u001b[0mstart_client\u001b[0m\u001b[0;34m(\u001b[0m\u001b[0;34m)\u001b[0m\u001b[0;34m\u001b[0m\u001b[0;34m\u001b[0m\u001b[0m\n\u001b[0;32m--> 268\u001b[0;31m         \u001b[0mself\u001b[0m\u001b[0;34m.\u001b[0m\u001b[0mstart_session\u001b[0m\u001b[0;34m(\u001b[0m\u001b[0mcapabilities\u001b[0m\u001b[0;34m,\u001b[0m \u001b[0mbrowser_profile\u001b[0m\u001b[0;34m)\u001b[0m\u001b[0;34m\u001b[0m\u001b[0;34m\u001b[0m\u001b[0m\n\u001b[0m\u001b[1;32m    269\u001b[0m \u001b[0;34m\u001b[0m\u001b[0m\n\u001b[1;32m    270\u001b[0m     \u001b[0;32mdef\u001b[0m \u001b[0m__repr__\u001b[0m\u001b[0;34m(\u001b[0m\u001b[0mself\u001b[0m\u001b[0;34m)\u001b[0m\u001b[0;34m:\u001b[0m\u001b[0;34m\u001b[0m\u001b[0;34m\u001b[0m\u001b[0m\n",
      "\u001b[0;32m~/.local/lib/python3.9/site-packages/selenium/webdriver/remote/webdriver.py\u001b[0m in \u001b[0;36mstart_session\u001b[0;34m(self, capabilities, browser_profile)\u001b[0m\n\u001b[1;32m    357\u001b[0m         parameters = {\"capabilities\": w3c_caps,\n\u001b[1;32m    358\u001b[0m                       \"desiredCapabilities\": capabilities}\n\u001b[0;32m--> 359\u001b[0;31m         \u001b[0mresponse\u001b[0m \u001b[0;34m=\u001b[0m \u001b[0mself\u001b[0m\u001b[0;34m.\u001b[0m\u001b[0mexecute\u001b[0m\u001b[0;34m(\u001b[0m\u001b[0mCommand\u001b[0m\u001b[0;34m.\u001b[0m\u001b[0mNEW_SESSION\u001b[0m\u001b[0;34m,\u001b[0m \u001b[0mparameters\u001b[0m\u001b[0;34m)\u001b[0m\u001b[0;34m\u001b[0m\u001b[0;34m\u001b[0m\u001b[0m\n\u001b[0m\u001b[1;32m    360\u001b[0m         \u001b[0;32mif\u001b[0m \u001b[0;34m'sessionId'\u001b[0m \u001b[0;32mnot\u001b[0m \u001b[0;32min\u001b[0m \u001b[0mresponse\u001b[0m\u001b[0;34m:\u001b[0m\u001b[0;34m\u001b[0m\u001b[0;34m\u001b[0m\u001b[0m\n\u001b[1;32m    361\u001b[0m             \u001b[0mresponse\u001b[0m \u001b[0;34m=\u001b[0m \u001b[0mresponse\u001b[0m\u001b[0;34m[\u001b[0m\u001b[0;34m'value'\u001b[0m\u001b[0;34m]\u001b[0m\u001b[0;34m\u001b[0m\u001b[0;34m\u001b[0m\u001b[0m\n",
      "\u001b[0;32m~/.local/lib/python3.9/site-packages/selenium/webdriver/remote/webdriver.py\u001b[0m in \u001b[0;36mexecute\u001b[0;34m(self, driver_command, params)\u001b[0m\n\u001b[1;32m    422\u001b[0m         \u001b[0mresponse\u001b[0m \u001b[0;34m=\u001b[0m \u001b[0mself\u001b[0m\u001b[0;34m.\u001b[0m\u001b[0mcommand_executor\u001b[0m\u001b[0;34m.\u001b[0m\u001b[0mexecute\u001b[0m\u001b[0;34m(\u001b[0m\u001b[0mdriver_command\u001b[0m\u001b[0;34m,\u001b[0m \u001b[0mparams\u001b[0m\u001b[0;34m)\u001b[0m\u001b[0;34m\u001b[0m\u001b[0;34m\u001b[0m\u001b[0m\n\u001b[1;32m    423\u001b[0m         \u001b[0;32mif\u001b[0m \u001b[0mresponse\u001b[0m\u001b[0;34m:\u001b[0m\u001b[0;34m\u001b[0m\u001b[0;34m\u001b[0m\u001b[0m\n\u001b[0;32m--> 424\u001b[0;31m             \u001b[0mself\u001b[0m\u001b[0;34m.\u001b[0m\u001b[0merror_handler\u001b[0m\u001b[0;34m.\u001b[0m\u001b[0mcheck_response\u001b[0m\u001b[0;34m(\u001b[0m\u001b[0mresponse\u001b[0m\u001b[0;34m)\u001b[0m\u001b[0;34m\u001b[0m\u001b[0;34m\u001b[0m\u001b[0m\n\u001b[0m\u001b[1;32m    425\u001b[0m             response['value'] = self._unwrap_value(\n\u001b[1;32m    426\u001b[0m                 response.get('value', None))\n",
      "\u001b[0;32m~/.local/lib/python3.9/site-packages/selenium/webdriver/remote/errorhandler.py\u001b[0m in \u001b[0;36mcheck_response\u001b[0;34m(self, response)\u001b[0m\n\u001b[1;32m    245\u001b[0m                 \u001b[0malert_text\u001b[0m \u001b[0;34m=\u001b[0m \u001b[0mvalue\u001b[0m\u001b[0;34m[\u001b[0m\u001b[0;34m'alert'\u001b[0m\u001b[0;34m]\u001b[0m\u001b[0;34m.\u001b[0m\u001b[0mget\u001b[0m\u001b[0;34m(\u001b[0m\u001b[0;34m'text'\u001b[0m\u001b[0;34m)\u001b[0m\u001b[0;34m\u001b[0m\u001b[0;34m\u001b[0m\u001b[0m\n\u001b[1;32m    246\u001b[0m             \u001b[0;32mraise\u001b[0m \u001b[0mexception_class\u001b[0m\u001b[0;34m(\u001b[0m\u001b[0mmessage\u001b[0m\u001b[0;34m,\u001b[0m \u001b[0mscreen\u001b[0m\u001b[0;34m,\u001b[0m \u001b[0mstacktrace\u001b[0m\u001b[0;34m,\u001b[0m \u001b[0malert_text\u001b[0m\u001b[0;34m)\u001b[0m  \u001b[0;31m# type: ignore[call-arg]  # mypy is not smart enough here\u001b[0m\u001b[0;34m\u001b[0m\u001b[0;34m\u001b[0m\u001b[0m\n\u001b[0;32m--> 247\u001b[0;31m         \u001b[0;32mraise\u001b[0m \u001b[0mexception_class\u001b[0m\u001b[0;34m(\u001b[0m\u001b[0mmessage\u001b[0m\u001b[0;34m,\u001b[0m \u001b[0mscreen\u001b[0m\u001b[0;34m,\u001b[0m \u001b[0mstacktrace\u001b[0m\u001b[0;34m)\u001b[0m\u001b[0;34m\u001b[0m\u001b[0;34m\u001b[0m\u001b[0m\n\u001b[0m\u001b[1;32m    248\u001b[0m \u001b[0;34m\u001b[0m\u001b[0m\n\u001b[1;32m    249\u001b[0m     \u001b[0;32mdef\u001b[0m \u001b[0m_value_or_default\u001b[0m\u001b[0;34m(\u001b[0m\u001b[0mself\u001b[0m\u001b[0;34m,\u001b[0m \u001b[0mobj\u001b[0m\u001b[0;34m:\u001b[0m \u001b[0mMapping\u001b[0m\u001b[0;34m[\u001b[0m\u001b[0m_KT\u001b[0m\u001b[0;34m,\u001b[0m \u001b[0m_VT\u001b[0m\u001b[0;34m]\u001b[0m\u001b[0;34m,\u001b[0m \u001b[0mkey\u001b[0m\u001b[0;34m:\u001b[0m \u001b[0m_KT\u001b[0m\u001b[0;34m,\u001b[0m \u001b[0mdefault\u001b[0m\u001b[0;34m:\u001b[0m \u001b[0m_VT\u001b[0m\u001b[0;34m)\u001b[0m \u001b[0;34m->\u001b[0m \u001b[0m_VT\u001b[0m\u001b[0;34m:\u001b[0m\u001b[0;34m\u001b[0m\u001b[0;34m\u001b[0m\u001b[0m\n",
      "\u001b[0;31mWebDriverException\u001b[0m: Message: unknown error: cannot create temp dir for user data dir\nStacktrace:\n0   chromedriver                        0x0000000105f55f38 chromedriver + 4910904\n1   chromedriver                        0x0000000105ed5a03 chromedriver + 4385283\n2   chromedriver                        0x0000000105b1a747 chromedriver + 472903\n3   chromedriver                        0x0000000105b45a50 chromedriver + 649808\n4   chromedriver                        0x0000000105b434a2 chromedriver + 640162\n5   chromedriver                        0x0000000105b8e460 chromedriver + 947296\n6   chromedriver                        0x0000000105b8dcbf chromedriver + 945343\n7   chromedriver                        0x0000000105b84ee3 chromedriver + 909027\n8   chromedriver                        0x0000000105b4f30c chromedriver + 688908\n9   chromedriver                        0x0000000105b5088e chromedriver + 694414\n10  chromedriver                        0x0000000105f231de chromedriver + 4702686\n11  chromedriver                        0x0000000105f27b19 chromedriver + 4721433\n12  chromedriver                        0x0000000105f2f28e chromedriver + 4752014\n13  chromedriver                        0x0000000105f2891a chromedriver + 4725018\n14  chromedriver                        0x0000000105efcb02 chromedriver + 4545282\n15  chromedriver                        0x0000000105f47888 chromedriver + 4851848\n16  chromedriver                        0x0000000105f47a05 chromedriver + 4852229\n17  chromedriver                        0x0000000105f5de5f chromedriver + 4943455\n18  libsystem_pthread.dylib             0x00007ff819a4b4e1 _pthread_start + 125\n19  libsystem_pthread.dylib             0x00007ff819a46f6b thread_start + 15\n"
     ]
    }
   ],
   "source": [
    "for x,y in df.caseregisters_id.items():\n",
    "        folder = '/Volumes/TOSHIBA/LawLab/'+str(x)\n",
    "        url = 'https://ccij-cdb.innovationlawlab.org/records/'+str(x)+'/case/'+str(y)\n",
    "        op = Options()\n",
    "        op.add_experimental_option('prefs',{'download.default_directory':folder})\n",
    "        chromedriver = '/Users/stjames/Documents/chromedriver'\n",
    "        driver = webdriver.Chrome(chromedriver, chrome_options=op)\n",
    "        driver.implicitly_wait(10)\n",
    "        driver.get(url)\n",
    "        driver.find_element(By.XPATH,'//*[@id=\"user_login\"]').send_keys('pablo-ccij')\n",
    "        driver.find_element(By.XPATH,'//*[@id=\"user_password\"]').send_keys('Clement3!')\n",
    "        driver.find_element(By.XPATH,'//*[@id=\"loginform\"]/button/span').click()\n",
    "        time.sleep(3)\n",
    "        driver.find_element(By.XPATH, '//div/div/div[3]/button').click()\n",
    "        time.sleep(.5)\n",
    "        driver.find_element(By.XPATH, '//div/main/div/div/div[2]/div/div[2]/nav/div/div[3]').click()\n",
    "        time.sleep(.5)\n",
    "        driver.find_element(By.XPATH,'//div/div[2]/a').click()\n",
    "        time.sleep(15)"
   ]
  },
  {
   "cell_type": "markdown",
   "id": "87298995-db44-4e06-acd2-32058b8b5be1",
   "metadata": {},
   "source": [
    "**everything below is good**"
   ]
  },
  {
   "cell_type": "code",
   "execution_count": 138,
   "id": "0c3825f2-82b9-4914-b7d7-b21a73765ec5",
   "metadata": {},
   "outputs": [],
   "source": [
    "os.chdir('/Volumes/TOSHIBA/LawLab/')"
   ]
  },
  {
   "cell_type": "code",
   "execution_count": 136,
   "id": "3a9fdee9-a266-4f53-a9b2-98846f5af334",
   "metadata": {},
   "outputs": [],
   "source": [
    "from zipfile import ZipFile"
   ]
  },
  {
   "cell_type": "code",
   "execution_count": 137,
   "id": "4d0c2f56-beba-41ad-bff7-f8e9a941f5ae",
   "metadata": {},
   "outputs": [],
   "source": [
    "for x in os.listdir():\n",
    "    if x == '.DS_Store':\n",
    "        pass\n",
    "    else:\n",
    "        try:\n",
    "            with ZipFile('/Volumes/TOSHIBA/LawLab/'+x+'/download_all.zip', 'r') as zip_object:\n",
    "                zip_object.extractall(path='/Volumes/TOSHIBA/LawLab/'+x+'/')\n",
    "        except FileNotFoundError:\n",
    "            print(str(x))"
   ]
  },
  {
   "cell_type": "code",
   "execution_count": null,
   "id": "791d3104-bcf5-460e-b79b-d8c3daca1d4f",
   "metadata": {},
   "outputs": [],
   "source": [
    "for x in os.listdir():\n",
    "    if x == '.DS_Store':\n",
    "        pass\n",
    "    else:\n",
    "        try:\n",
    "            os.remove('/Volumes/TOSHIBA/LawLab/'+x+'/download_all.zip')\n",
    "        except FileNotFoundError:\n",
    "            print(str(x))\n",
    "                  "
   ]
  },
  {
   "cell_type": "raw",
   "id": "9a890d72-2d4f-4f78-8e16-d4f4330d1f96",
   "metadata": {},
   "source": [
    "cols = ['Contact.ExternalID', 'Body']\n",
    "df2 = pd.DataFrame(columns=cols)"
   ]
  },
  {
   "cell_type": "raw",
   "id": "332c70b6-4c97-41a5-a37f-c70acd78aac4",
   "metadata": {},
   "source": [
    "for x, y in df.first_name.items():\n",
    "    df['Contact.ExternalID'][x]=str(x)\n",
    "for x in os.listdir():\n",
    "    df['Body'][x]='batch_download_test/'+str(x)+'/24982'"
   ]
  },
  {
   "cell_type": "markdown",
   "id": "c727ae69-f5fc-4f81-bac0-f78dc58f37bf",
   "metadata": {},
   "source": [
    "df2 = df.loc[:,['firstName', 'lastName']]\n",
    "df2.index = df2.index.astype(str)"
   ]
  },
  {
   "cell_type": "markdown",
   "id": "e354442e-27f7-4801-81da-c9584304783f",
   "metadata": {},
   "source": [
    "**this right here is good**"
   ]
  },
  {
   "cell_type": "code",
   "execution_count": 173,
   "id": "a1fcea09-ef3a-4974-ac70-09514a04adf9",
   "metadata": {},
   "outputs": [],
   "source": [
    "for top, files, dirs in os.walk(os.getcwd()):\n",
    "    if len(top) == 38:\n",
    "        for x in dirs:\n",
    "            os.rename((top+\"/\"+x), (top[:33]+x))\n",
    "        os.rmdir(top)"
   ]
  },
  {
   "cell_type": "code",
   "execution_count": 9,
   "id": "6df31d90-40e6-4878-84e9-9bdb8d287298",
   "metadata": {},
   "outputs": [],
   "source": [
    "df2 = pd.DataFrame()"
   ]
  },
  {
   "cell_type": "code",
   "execution_count": 23,
   "id": "5ba12255-e1a3-458f-9192-071b46532baa",
   "metadata": {},
   "outputs": [],
   "source": [
    "import re"
   ]
  },
  {
   "cell_type": "markdown",
   "id": "11037962-4d50-4dac-b91a-dd749bd60d92",
   "metadata": {},
   "source": [
    "**i dont need below**"
   ]
  },
  {
   "cell_type": "code",
   "execution_count": 24,
   "id": "8e0fae96-687d-475c-a9f1-7be2a60668c8",
   "metadata": {},
   "outputs": [],
   "source": [
    "os.chdir('/Users/stjames/Dropbox/Pablo/LawLab/files')"
   ]
  },
  {
   "cell_type": "code",
   "execution_count": 61,
   "id": "337730a6-0576-4db2-b719-6e2daf8325c9",
   "metadata": {},
   "outputs": [],
   "source": [
    "df2 = pd.DataFrame()"
   ]
  },
  {
   "cell_type": "code",
   "execution_count": null,
   "id": "6d0ae47d-0f3f-4ba4-839a-8a639b5daa76",
   "metadata": {},
   "outputs": [],
   "source": []
  },
  {
   "cell_type": "code",
   "execution_count": 62,
   "id": "302f6e95-d97b-408f-a03c-a41d0cdb51ea",
   "metadata": {},
   "outputs": [],
   "source": [
    "df2['unique_id'] = os.listdir()"
   ]
  },
  {
   "cell_type": "code",
   "execution_count": 63,
   "id": "9ad6d5c5-63f1-4c57-95b4-08c8619e025d",
   "metadata": {},
   "outputs": [],
   "source": [
    "df2 = df2.set_index('unique_id')"
   ]
  },
  {
   "cell_type": "code",
   "execution_count": 64,
   "id": "604e8294-2452-4a0f-ad34-3f2e5043d6dc",
   "metadata": {},
   "outputs": [],
   "source": [
    "for top, files, dirs in os.walk(os.getcwd()):\n",
    "    if len(top) == 50:\n",
    "        m = re.search('\\d{8}', top)\n",
    "        r = m.group(0)\n",
    "        df2.loc[r,'folder'] = top[14:]\n",
    "        "
   ]
  },
  {
   "cell_type": "code",
   "execution_count": 67,
   "id": "bb2566d1-6ea3-4254-bc25-ca75891fb05b",
   "metadata": {},
   "outputs": [],
   "source": [
    "df2.to_csv('/Users/stjames/Dropbox/Pablo/LawLab/ref.csv')"
   ]
  },
  {
   "cell_type": "code",
   "execution_count": 21,
   "id": "4e505d24-fa30-450d-8f69-1bd2abe058b9",
   "metadata": {},
   "outputs": [
    {
     "data": {
      "text/plain": [
       "50"
      ]
     },
     "execution_count": 21,
     "metadata": {},
     "output_type": "execute_result"
    }
   ],
   "source": [
    "len('/Users/stjames/Dropbox/Pablo/LawLab/files/20200079')"
   ]
  },
  {
   "cell_type": "code",
   "execution_count": null,
   "id": "6789765b-933d-4ca5-91d5-de680ca0c9fc",
   "metadata": {},
   "outputs": [],
   "source": [
    "for top, files, dirs in os.walk(os.getcwd()):\n",
    "    print(files)\n",
    "    "
   ]
  },
  {
   "cell_type": "code",
   "execution_count": null,
   "id": "ef51ee98-2036-47b2-98da-89c5c43183b4",
   "metadata": {},
   "outputs": [],
   "source": [
    "os.listdir()"
   ]
  },
  {
   "cell_type": "code",
   "execution_count": 1,
   "id": "969c627e-bef4-4c30-b9f5-00f742ebe620",
   "metadata": {},
   "outputs": [],
   "source": [
    "import os"
   ]
  },
  {
   "cell_type": "code",
   "execution_count": 18,
   "id": "160bb46e-025d-43e8-b7bd-592460ade760",
   "metadata": {},
   "outputs": [],
   "source": [
    "d = '/Users/stjames/Dropbox/Pablo/LawLab/files'\n",
    "t = '/Volumes/TOSHIBA/LawLab copy'"
   ]
  },
  {
   "cell_type": "code",
   "execution_count": 19,
   "id": "e49c0512-e92b-4c02-a32b-22dd9248f343",
   "metadata": {},
   "outputs": [],
   "source": [
    "def func(d, t):\n",
    "    dlist = []\n",
    "    tlist = []\n",
    "    for top, files, dirs in os.walk(d):\n",
    "        dlist.append(files)\n",
    "    for top, files, dirs in os.walk(t):\n",
    "        tlist.append(files)\n",
    "    return dlist, tlist"
   ]
  },
  {
   "cell_type": "code",
   "execution_count": 20,
   "id": "1bbdc6bd-bad8-4698-8e86-b6a40b6182e1",
   "metadata": {},
   "outputs": [],
   "source": [
    "dlist, tlist = func(d, t)"
   ]
  },
  {
   "cell_type": "code",
   "execution_count": 32,
   "id": "1919dfe5-1153-41a0-a7b4-bf29472766bf",
   "metadata": {},
   "outputs": [],
   "source": [
    "dlist = dlist[0]\n",
    "tlist = tlist[0]"
   ]
  },
  {
   "cell_type": "code",
   "execution_count": 34,
   "id": "9f45271c-b1dc-4280-9049-e22de3018ee0",
   "metadata": {},
   "outputs": [],
   "source": [
    "fix = set(tlist) - set(dlist)"
   ]
  },
  {
   "cell_type": "code",
   "execution_count": null,
   "id": "0d4b68de-2e60-4603-b4e6-45f6c79f8bf0",
   "metadata": {},
   "outputs": [],
   "source": []
  },
  {
   "cell_type": "code",
   "execution_count": 42,
   "id": "a1d949ff-cf06-4b97-951b-c904b800f77e",
   "metadata": {},
   "outputs": [],
   "source": [
    "for x in fix:\n",
    "    os.rename(('/Volumes/TOSHIBA/LawLab copy/'+x), ('/Volumes/TOSHIBA/LawLab/file_cleanup/'+x))\n",
    "    "
   ]
  },
  {
   "cell_type": "code",
   "execution_count": 45,
   "id": "e87eda8f-d5c6-471e-90cc-49d3e36f4bfc",
   "metadata": {},
   "outputs": [
    {
     "data": {
      "text/plain": [
       "{'20180940',\n",
       " '20190446',\n",
       " '20190460',\n",
       " '20190720',\n",
       " '20191369',\n",
       " '20200015',\n",
       " '20200062',\n",
       " '20200109',\n",
       " '20200111',\n",
       " '20200116',\n",
       " '20200119',\n",
       " '20200133',\n",
       " '20200164',\n",
       " '20200165',\n",
       " '20200166',\n",
       " '20200167',\n",
       " '20200169',\n",
       " '20200176',\n",
       " '20200178',\n",
       " '20200180',\n",
       " '20200181',\n",
       " '20200182',\n",
       " '20200183',\n",
       " '20200186',\n",
       " '20200205',\n",
       " '20200215',\n",
       " '20200218',\n",
       " '20200226',\n",
       " '20200236',\n",
       " '20200238',\n",
       " '20200240',\n",
       " '20200241',\n",
       " '20200245',\n",
       " '20200246',\n",
       " '20200326',\n",
       " '20200327',\n",
       " '20200329',\n",
       " '20200330',\n",
       " '20200331',\n",
       " '20200363',\n",
       " '20200364',\n",
       " '20200372',\n",
       " '20200373',\n",
       " '20200395',\n",
       " '20200405',\n",
       " '20200411',\n",
       " '20200416',\n",
       " '20200420',\n",
       " '20200421',\n",
       " '20200447',\n",
       " '20200448',\n",
       " '20200455',\n",
       " '20200464',\n",
       " '20200466',\n",
       " '20200467',\n",
       " '20200469',\n",
       " '20200473',\n",
       " '20200474',\n",
       " '20200475',\n",
       " '20200476',\n",
       " '20200478',\n",
       " '20200485',\n",
       " '20200491',\n",
       " '20200510',\n",
       " '20200512',\n",
       " '20200514',\n",
       " '20200515',\n",
       " '20200518',\n",
       " '20200523',\n",
       " '20200524',\n",
       " '20200553',\n",
       " '20200577',\n",
       " '20200579',\n",
       " '20200581',\n",
       " '20200589',\n",
       " '20200592',\n",
       " '20200609',\n",
       " '20200615',\n",
       " '20200616',\n",
       " '20200629',\n",
       " '20200633',\n",
       " '20210041',\n",
       " '20210062',\n",
       " '20210085',\n",
       " '20210090',\n",
       " '20210092',\n",
       " '20210093',\n",
       " '20210096',\n",
       " '20210103',\n",
       " '20210111',\n",
       " '20210124',\n",
       " '20210131',\n",
       " '20210143',\n",
       " '20210208',\n",
       " '20210232',\n",
       " '20210270',\n",
       " '20210275',\n",
       " '20210276',\n",
       " '20210320',\n",
       " '20210333',\n",
       " '20210335',\n",
       " '20210339',\n",
       " '20210340',\n",
       " '20210353',\n",
       " '20220012',\n",
       " '20220014',\n",
       " '20220015',\n",
       " '20220025',\n",
       " '20220027',\n",
       " '20220043',\n",
       " '20220045',\n",
       " '20220050',\n",
       " '20220068',\n",
       " '20220071',\n",
       " '20220074',\n",
       " '20220076',\n",
       " '20220080',\n",
       " '20220106',\n",
       " '20220116',\n",
       " '20220118',\n",
       " '20220123',\n",
       " '20220127',\n",
       " '20220128',\n",
       " '20220129',\n",
       " '20220131',\n",
       " '20220133',\n",
       " '20220150',\n",
       " '20220159',\n",
       " '20220160',\n",
       " '20220166',\n",
       " '20220169',\n",
       " '20220200',\n",
       " '20220213',\n",
       " '20220215',\n",
       " '20220216',\n",
       " '20220269',\n",
       " '20220286',\n",
       " '20220296',\n",
       " '20220297',\n",
       " '20220299',\n",
       " '20220305',\n",
       " '20220306',\n",
       " '20220309',\n",
       " '20220311',\n",
       " '20220314',\n",
       " '20220318',\n",
       " '20220320',\n",
       " '20220321',\n",
       " '20220324',\n",
       " '20220329',\n",
       " '20220335',\n",
       " '20220338',\n",
       " '20220343',\n",
       " '20220344',\n",
       " '20220346',\n",
       " '20220348',\n",
       " '20220349'}"
      ]
     },
     "execution_count": 45,
     "metadata": {},
     "output_type": "execute_result"
    }
   ],
   "source": [
    "fix"
   ]
  },
  {
   "cell_type": "code",
   "execution_count": null,
   "id": "480ad9be-541f-40f7-afca-fb406d373fe0",
   "metadata": {},
   "outputs": [],
   "source": []
  }
 ],
 "metadata": {
  "kernelspec": {
   "display_name": "Python 3 (ipykernel)",
   "language": "python",
   "name": "python3"
  },
  "language_info": {
   "codemirror_mode": {
    "name": "ipython",
    "version": 3
   },
   "file_extension": ".py",
   "mimetype": "text/x-python",
   "name": "python",
   "nbconvert_exporter": "python",
   "pygments_lexer": "ipython3",
   "version": "3.9.7"
  }
 },
 "nbformat": 4,
 "nbformat_minor": 5
}
