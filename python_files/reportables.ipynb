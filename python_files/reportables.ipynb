{
 "cells": [
  {
   "cell_type": "code",
   "execution_count": null,
   "id": "61386040-f54e-4f8b-969e-7cfc811825c0",
   "metadata": {},
   "outputs": [],
   "source": [
    "import pandas as pd\n",
    "from ccij_clean import create\n",
    "import os"
   ]
  },
  {
   "cell_type": "code",
   "execution_count": null,
   "id": "fe1a5e41-a0c8-4ded-9473-14f86f045def",
   "metadata": {},
   "outputs": [],
   "source": [
    "cwd = os.getcwd().strip('python_files')"
   ]
  },
  {
   "cell_type": "code",
   "execution_count": null,
   "id": "90d91c9a-99c7-4b64-b1d6-c65c96f727de",
   "metadata": {},
   "outputs": [],
   "source": [
    "df = create.create()"
   ]
  },
  {
   "cell_type": "code",
   "execution_count": null,
   "id": "6eb0a268-42ab-4d94-baac-a209c47a9719",
   "metadata": {},
   "outputs": [],
   "source": [
    "df.head()"
   ]
  },
  {
   "cell_type": "code",
   "execution_count": null,
   "id": "72c4dbda-da5f-43e7-85b2-d46e45b13786",
   "metadata": {},
   "outputs": [],
   "source": [
    "cn = pd.read_csv(cwd+'data/raw_csv_files/casenotes/case_comments.csv')\n"
   ]
  },
  {
   "cell_type": "code",
   "execution_count": null,
   "id": "687fe4fd-1d4c-4439-bce9-6c272454ba9c",
   "metadata": {},
   "outputs": [],
   "source": [
    "cn = cn.set_index('record_id')\n",
    "cn.index = cn.index.astype('str')\n",
    "df = df.set_index('record_id')"
   ]
  },
  {
   "cell_type": "markdown",
   "id": "ebcfb872-01e3-4894-a19f-a76eb4e6b258",
   "metadata": {},
   "source": [
    "**adjust timeframe here**"
   ]
  },
  {
   "cell_type": "code",
   "execution_count": null,
   "id": "148ab69f-e86c-4701-a13b-210431969476",
   "metadata": {},
   "outputs": [],
   "source": [
    "cn = cn[cn['actionDate']>='2022-01-01']\n",
    "#cn = cn[cn['actionDate']<='2022-09-30']"
   ]
  },
  {
   "cell_type": "code",
   "execution_count": null,
   "id": "e28c0003-7aa9-45f0-a8e8-2ef1f30b513b",
   "metadata": {},
   "outputs": [],
   "source": [
    "#df = df[df['casetype']!='Partner Intake']"
   ]
  },
  {
   "cell_type": "markdown",
   "id": "8522a533-f9d4-4ff7-b1be-3a6a9d13088f",
   "metadata": {},
   "source": [
    "**select notetype here**"
   ]
  },
  {
   "cell_type": "code",
   "execution_count": null,
   "id": "c5d87bfb-7e00-4835-bc2c-12894362a299",
   "metadata": {},
   "outputs": [],
   "source": [
    "con = cn[cn['caseaction_id']=='Legal Consult w/Atty']"
   ]
  },
  {
   "cell_type": "code",
   "execution_count": null,
   "id": "e3ea9cbc-5e7b-4018-b593-005d6d4bae21",
   "metadata": {},
   "outputs": [],
   "source": [
    "plc = cn[cn['caseaction_id']=='Placed w/ Pro Bono']"
   ]
  },
  {
   "cell_type": "markdown",
   "id": "5f6421d6-db90-4686-89d5-5de35008054d",
   "metadata": {},
   "source": [
    "**selecting people who were don't fall under partner intake category**"
   ]
  },
  {
   "cell_type": "code",
   "execution_count": null,
   "id": "35d041e9-cdbe-4d9e-988d-3ce53fb3e413",
   "metadata": {},
   "outputs": [],
   "source": [
    "con = con.loc[con.index.isin(df.index),:]"
   ]
  },
  {
   "cell_type": "code",
   "execution_count": null,
   "id": "66df3755-3d1b-42ca-85a5-ca0d6ecf33a7",
   "metadata": {},
   "outputs": [],
   "source": [
    "con.index.value_counts()"
   ]
  },
  {
   "cell_type": "markdown",
   "id": "6883a580-a77d-4d21-bb0c-0c3f4e222fad",
   "metadata": {},
   "source": [
    "**taking out centro-team for transfers of gsa people**"
   ]
  },
  {
   "cell_type": "code",
   "execution_count": null,
   "id": "5187bec3-360e-4b37-af49-4cbb1c6e99c2",
   "metadata": {},
   "outputs": [],
   "source": [
    "con = con[con['created_by_id']!='CENTRO-TEAM']"
   ]
  },
  {
   "cell_type": "code",
   "execution_count": null,
   "id": "e217cf2e-e40f-42d8-a3f5-6e797dd9ed53",
   "metadata": {},
   "outputs": [],
   "source": [
    "c.shape"
   ]
  },
  {
   "cell_type": "code",
   "execution_count": null,
   "id": "0afc26bd-bc89-40e0-9126-6ba71420bded",
   "metadata": {},
   "outputs": [],
   "source": [
    "con.shape"
   ]
  },
  {
   "cell_type": "code",
   "execution_count": null,
   "id": "2f63e7ab-bd40-4aa0-bc33-c5de10cdae25",
   "metadata": {},
   "outputs": [],
   "source": [
    "con.created_by_id.value_counts()"
   ]
  },
  {
   "cell_type": "code",
   "execution_count": null,
   "id": "aaf5cf68-3986-47b6-a63d-b36b596e5f04",
   "metadata": {},
   "outputs": [],
   "source": [
    "c = plc.drop(['caseregisters_id','party_id','caseevent_id'],axis=1).sort_values('actionDate')"
   ]
  },
  {
   "cell_type": "code",
   "execution_count": null,
   "id": "06f3574a-7348-43c7-9e0b-1614fca323c8",
   "metadata": {},
   "outputs": [],
   "source": [
    "con = con.drop(['caseregisters_id','party_id','caseevent_id'],axis=1).sort_values('actionDate')"
   ]
  },
  {
   "cell_type": "code",
   "execution_count": null,
   "id": "47462694-a0d6-49e6-98bb-8b20c00fcd00",
   "metadata": {},
   "outputs": [],
   "source": [
    "c.to_csv('/Users/stjames/Downloads/placed.csv')\n",
    "con.to_csv('/Users/stjames/Downloads/consults.csv')"
   ]
  },
  {
   "cell_type": "code",
   "execution_count": null,
   "id": "5d9a3bb3-c7d2-498c-9541-6c27af03dc9d",
   "metadata": {},
   "outputs": [],
   "source": [
    "df1 = df.loc[df.index.isin(con.index),:]"
   ]
  },
  {
   "cell_type": "code",
   "execution_count": null,
   "id": "a6f003f0-2128-4d1e-a7ac-571d4796c47c",
   "metadata": {},
   "outputs": [],
   "source": [
    "df1[df1['lawlab_opened']>'2022-06-16'].shape"
   ]
  },
  {
   "cell_type": "code",
   "execution_count": null,
   "id": "636d7450-6660-4dd8-900c-73d34a7cda04",
   "metadata": {},
   "outputs": [],
   "source": [
    "from ccij_clean import age"
   ]
  },
  {
   "cell_type": "code",
   "execution_count": null,
   "id": "d073c4b5-5bce-45fa-9f7c-5e116bddaf8c",
   "metadata": {},
   "outputs": [],
   "source": [
    "df1 = age.age(df1)"
   ]
  },
  {
   "cell_type": "code",
   "execution_count": null,
   "id": "b9478458-0e80-44ae-811f-91cd576b167f",
   "metadata": {},
   "outputs": [],
   "source": [
    "df1.age_open.describe()"
   ]
  },
  {
   "cell_type": "code",
   "execution_count": null,
   "id": "2632aa5b-61e4-46dc-bcdd-749e05deaa30",
   "metadata": {},
   "outputs": [],
   "source": [
    "df1.immigration_status.value_counts()"
   ]
  },
  {
   "cell_type": "code",
   "execution_count": null,
   "id": "ffbc0d09-755c-47da-afb3-ecb816d6d73a",
   "metadata": {},
   "outputs": [],
   "source": [
    "con = con.loc[~con.index.duplicated(),:]"
   ]
  },
  {
   "cell_type": "code",
   "execution_count": null,
   "id": "18e0ff3d-d29d-4b8e-a2f3-596ae1b22c87",
   "metadata": {},
   "outputs": [],
   "source": [
    "pp = pd.read_csv('/Users/stjames/Dropbox/Pablo/data/ccij-transition/data/exported_files/casenotes/Prose+ and Legal Services.csv')"
   ]
  },
  {
   "cell_type": "code",
   "execution_count": null,
   "id": "7908f3f9-7187-4bd5-bcb4-82ab55a34719",
   "metadata": {},
   "outputs": [],
   "source": [
    "mi = pd.read_csv('/Users/stjames/Dropbox/Pablo/data/ccij-transition/data/exported_files/casenotes/Mailed Items.csv')"
   ]
  },
  {
   "cell_type": "code",
   "execution_count": null,
   "id": "c630bd29-4433-4792-bb6a-a76715d8a032",
   "metadata": {},
   "outputs": [],
   "source": [
    "mi = mi[mi['action_date']>='2022-01-01']\n",
    "mi = mi[mi['created_by']!='CENTRO-TEAM']"
   ]
  },
  {
   "cell_type": "code",
   "execution_count": null,
   "id": "af66eb17-8172-4bde-86f9-aab7579d6248",
   "metadata": {},
   "outputs": [],
   "source": [
    "mi.caseaction_id.value_counts()"
   ]
  },
  {
   "cell_type": "code",
   "execution_count": null,
   "id": "fb57ddd8-445e-40e1-a7c8-6b80b1e36e80",
   "metadata": {},
   "outputs": [],
   "source": [
    "mi.record_id.value_counts()"
   ]
  },
  {
   "cell_type": "code",
   "execution_count": null,
   "id": "bde0948a-b542-4341-be82-82d532b0cd13",
   "metadata": {},
   "outputs": [],
   "source": [
    "mi.created_by.value_counts()"
   ]
  },
  {
   "cell_type": "code",
   "execution_count": null,
   "id": "cf5aa55b-11f9-4978-9e58-9c967661f843",
   "metadata": {},
   "outputs": [],
   "source": [
    "pp = pp[pp['action_date']>='2022-01-01']\n",
    "pp = pp[pp['created_by']!='CENTRO-TEAM']"
   ]
  },
  {
   "cell_type": "code",
   "execution_count": null,
   "id": "9e31b3b5-9979-4e2b-a76b-18b218390cbd",
   "metadata": {},
   "outputs": [],
   "source": [
    "pp.caseaction_id.value_counts()"
   ]
  },
  {
   "cell_type": "code",
   "execution_count": null,
   "id": "03875753-b7c3-4713-8c6d-409861774822",
   "metadata": {},
   "outputs": [],
   "source": [
    "len(pp.record_id.value_counts())"
   ]
  },
  {
   "cell_type": "code",
   "execution_count": null,
   "id": "205a0f8d-ecf3-4853-b334-e182b584d6f5",
   "metadata": {},
   "outputs": [],
   "source": [
    "df"
   ]
  },
  {
   "cell_type": "code",
   "execution_count": null,
   "id": "1c549a79-f612-4f7c-966f-7890040d12ac",
   "metadata": {},
   "outputs": [],
   "source": [
    "df = pd.read_csv('/Users/stjames/Dropbox/Pablo/export_2022-11-03.csv')"
   ]
  },
  {
   "cell_type": "code",
   "execution_count": null,
   "id": "f786d689-76ee-4fa3-bb1f-62fc89fb7bb8",
   "metadata": {},
   "outputs": [],
   "source": [
    "df.columns"
   ]
  },
  {
   "cell_type": "code",
   "execution_count": null,
   "id": "c09a4833-4b78-4803-81c1-44e031c4ff98",
   "metadata": {},
   "outputs": [],
   "source": [
    "df = df.drop(labels=['Unnamed: 0','record_id','a_number','first_name','last_name','presumed_detained'], axis=1)"
   ]
  },
  {
   "cell_type": "code",
   "execution_count": null,
   "id": "aca6e078-f1f9-455c-878e-ea5f84ff5176",
   "metadata": {},
   "outputs": [],
   "source": [
    "df.to_csv('/Users/stjames/Dropbox/Pablo/export_2022-11-03.csv')"
   ]
  },
  {
   "cell_type": "code",
   "execution_count": null,
   "id": "5d77f99a-bb89-4c68-82f8-1423907dc67a",
   "metadata": {},
   "outputs": [],
   "source": []
  }
 ],
 "metadata": {
  "kernelspec": {
   "display_name": "Python 3 (ipykernel)",
   "language": "python",
   "name": "python3"
  },
  "language_info": {
   "codemirror_mode": {
    "name": "ipython",
    "version": 3
   },
   "file_extension": ".py",
   "mimetype": "text/x-python",
   "name": "python",
   "nbconvert_exporter": "python",
   "pygments_lexer": "ipython3",
   "version": "3.9.7"
  }
 },
 "nbformat": 4,
 "nbformat_minor": 5
}
