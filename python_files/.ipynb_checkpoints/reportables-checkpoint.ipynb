{
 "cells": [
  {
   "cell_type": "code",
   "execution_count": 83,
   "id": "bc97cf7b-a63f-43e0-94a1-12250ff5cc90",
   "metadata": {},
   "outputs": [],
   "source": [
    "from test_module import the_func"
   ]
  },
  {
   "cell_type": "code",
   "execution_count": 84,
   "id": "c11a9477-6b96-491d-a953-8b87a5a0e717",
   "metadata": {},
   "outputs": [
    {
     "name": "stdout",
     "output_type": "stream",
     "text": [
      "['__builtins__', '__cached__', '__doc__', '__file__', '__loader__', '__name__', '__package__', '__spec__', 'the_func']\n"
     ]
    }
   ],
   "source": [
    "print(dir(the_func))"
   ]
  },
  {
   "cell_type": "code",
   "execution_count": 85,
   "id": "8a2cd6b5-9514-4c3a-9c0d-551d742684b1",
   "metadata": {},
   "outputs": [
    {
     "data": {
      "text/plain": [
       "4"
      ]
     },
     "execution_count": 85,
     "metadata": {},
     "output_type": "execute_result"
    }
   ],
   "source": [
    "test_module.the_func.the_func(1,3)"
   ]
  },
  {
   "cell_type": "code",
   "execution_count": 91,
   "id": "6c5ce5c9-f801-4cab-8196-e9a4f9823482",
   "metadata": {},
   "outputs": [],
   "source": [
    "from create_db import create"
   ]
  },
  {
   "cell_type": "code",
   "execution_count": 92,
   "id": "8f2a879c-c245-4856-9b49-68ef65076609",
   "metadata": {},
   "outputs": [
    {
     "name": "stdout",
     "output_type": "stream",
     "text": [
      "['__builtins__', '__cached__', '__doc__', '__file__', '__loader__', '__name__', '__package__', '__spec__', '__warningregistry__', 'create_df', 'dt', 'np', 'os', 'pd']\n"
     ]
    }
   ],
   "source": [
    "print(dir(create))"
   ]
  },
  {
   "cell_type": "code",
   "execution_count": 94,
   "id": "19010b7e-a0d1-4eb8-9c16-9e53c4dc71f7",
   "metadata": {},
   "outputs": [
    {
     "name": "stdout",
     "output_type": "stream",
     "text": [
      "Koreans and nan converted to Asian/Pacific Islander index= 20210136\n",
      "Arabs and nan converted to Other index= 20210137\n",
      "Portuguese and nan converted to White index= 20210209\n",
      "Lebanese and nan converted to Other index= 20210261\n",
      "Armenians and Other converted to White index= 20210265\n",
      "Armenians and nan converted to White index= 20220018\n",
      "Arabs and nan converted to Other index= 20220042\n",
      "Arabs and nan converted to Other index= 20220195\n",
      "Arabs and nan converted to Other index= 20220221\n",
      "Arabs and nan converted to Other index= 20220260\n",
      "Latino and nan converted to Latino index= 20200084\n",
      "Hindustani and nan converted to Asian/Pacific Islander index= 20200161\n",
      "Russians and nan converted to White index= 20200228\n",
      "Latino and nan converted to Latino index= 20200301\n",
      "Arabs and Other converted to Other index= 20200311\n",
      "Latino and Other converted to Latino index= 20200315\n",
      "Latino and Other converted to Latino index= 20200326\n",
      "Tajiks and Other converted to Asian/Pacific Islander index= 20200414\n",
      "Latino and nan converted to Latino index= 20200451\n",
      "Arabs and Other converted to Other index= 20200635\n",
      "Russians and nan converted to White index= 20210212\n",
      "Ukrainians and nan converted to White index= 20210222\n",
      "Latino and Other converted to Latino index= 20210333\n",
      "Latino and nan converted to Latino index= 20210229\n",
      "Latino and nan converted to Latino index= 20220227\n"
     ]
    },
    {
     "name": "stderr",
     "output_type": "stream",
     "text": [
      "/Users/stjames/Dropbox/Pablo/data/ccij-transition/python_files/create_db/create.py:170: SettingWithCopyWarning: \n",
      "A value is trying to be set on a copy of a slice from a DataFrame.\n",
      "Try using .loc[row_indexer,col_indexer] = value instead\n",
      "\n",
      "See the caveats in the documentation: https://pandas.pydata.org/pandas-docs/stable/user_guide/indexing.html#returning-a-view-versus-a-copy\n",
      "  df[df['casetype']=='GSA-KYR']['casetype'] = 'Remote Clinic'\n"
     ]
    }
   ],
   "source": [
    "df = create.create_df()"
   ]
  },
  {
   "cell_type": "code",
   "execution_count": 103,
   "id": "ab7664f4-7d98-4179-ae7c-bfa05d97dae6",
   "metadata": {},
   "outputs": [],
   "source": [
    "from create_db import age_open"
   ]
  },
  {
   "cell_type": "code",
   "execution_count": 105,
   "id": "a339e1fb-3f88-4aab-8941-04d5b4bdb079",
   "metadata": {},
   "outputs": [
    {
     "ename": "AttributeError",
     "evalue": "module 'create_db.age_open' has no attribute 'age'",
     "output_type": "error",
     "traceback": [
      "\u001b[0;31m---------------------------------------------------------------------------\u001b[0m",
      "\u001b[0;31mAttributeError\u001b[0m                            Traceback (most recent call last)",
      "\u001b[0;32m/var/folders/nq/c298dxfn1sgcvrvkkcwthl980000gn/T/ipykernel_16942/2157758271.py\u001b[0m in \u001b[0;36m<module>\u001b[0;34m\u001b[0m\n\u001b[0;32m----> 1\u001b[0;31m \u001b[0mage_open\u001b[0m\u001b[0;34m.\u001b[0m\u001b[0mage\u001b[0m\u001b[0;34m(\u001b[0m\u001b[0mdf\u001b[0m\u001b[0;34m)\u001b[0m\u001b[0;34m\u001b[0m\u001b[0;34m\u001b[0m\u001b[0m\n\u001b[0m",
      "\u001b[0;31mAttributeError\u001b[0m: module 'create_db.age_open' has no attribute 'age'"
     ]
    }
   ],
   "source": [
    "age_open.age(df)"
   ]
  },
  {
   "cell_type": "code",
   "execution_count": 104,
   "id": "a2bb49d8-0b1a-40b5-aa60-5f21dc8c10c8",
   "metadata": {},
   "outputs": [
    {
     "name": "stdout",
     "output_type": "stream",
     "text": [
      "['__builtins__', '__cached__', '__doc__', '__file__', '__loader__', '__name__', '__package__', '__spec__']\n"
     ]
    }
   ],
   "source": [
    "print(dir(age_open))"
   ]
  },
  {
   "cell_type": "code",
   "execution_count": null,
   "id": "a12c89a6-122d-43f0-8202-002c1d36f9e2",
   "metadata": {},
   "outputs": [],
   "source": []
  }
 ],
 "metadata": {
  "kernelspec": {
   "display_name": "Python 3 (ipykernel)",
   "language": "python",
   "name": "python3"
  },
  "language_info": {
   "codemirror_mode": {
    "name": "ipython",
    "version": 3
   },
   "file_extension": ".py",
   "mimetype": "text/x-python",
   "name": "python",
   "nbconvert_exporter": "python",
   "pygments_lexer": "ipython3",
   "version": "3.9.7"
  }
 },
 "nbformat": 4,
 "nbformat_minor": 5
}
