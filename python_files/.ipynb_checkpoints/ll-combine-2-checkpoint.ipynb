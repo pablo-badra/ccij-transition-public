{
 "cells": [
  {
   "cell_type": "code",
   "execution_count": null,
   "id": "4dc3274b-330e-4c32-a5fe-8399305dc850",
   "metadata": {},
   "outputs": [],
   "source": [
    "import pandas as pd\n",
    "import numpy as np\n",
    "import datetime as dt\n",
    "import os\n"
   ]
  },
  {
   "cell_type": "markdown",
   "id": "475c2fba-493c-48b9-80c4-54a4512a5f7b",
   "metadata": {},
   "source": [
    "**functions**"
   ]
  },
  {
   "cell_type": "code",
   "execution_count": null,
   "id": "1c6e5bbc-bed2-4c5c-b4a2-d6f8fcbe47c3",
   "metadata": {},
   "outputs": [],
   "source": [
    "def open_file_1(file):\n",
    "    file = pd.read_csv(\n",
    "        cwd+'data/raw_csv_files/data_set/'+str(file)+'.csv',\n",
    "        header=0, index_col='caseregisters_id')\n",
    "    file = file.loc[~file.index.duplicated(),:]\n",
    "    \n",
    "    return file\n",
    "\n",
    "def open_file_2(file):\n",
    "    try: \n",
    "        file = pd.read_csv(\n",
    "            cwd+'data/raw_csv_files/data_set/'+str(file)+'.csv',\n",
    "            header=0, index_col='record_id',usecols=['record_id', str(file)])\n",
    "        file = file.loc[~file.index.duplicated(),:]\n",
    "    except ValueError:\n",
    "        print(file)\n",
    "    return file\n",
    "\n",
    "def fix_caseaction_id(df):\n",
    "    dic = {'MVDF KYR - Detention Visit (Centro)':'@MVDF','Golden State KYR - Golden State Detention Visits':'@Golden State', 'DUBLIN - IHP Dublin':'@Dublin','AB32 MVDF - AB32 Coordination':'@MVDF'}\n",
    "    for x in df[df.caseaction_id.isna()].index:\n",
    "        try:\n",
    "            df.loc[x,'caseaction_id'] = dic[df.loc[x,'casetype_id']]\n",
    "        except KeyError:\n",
    "            pass\n",
    "    return df\n",
    "\n",
    "def age_open(df):\n",
    "    z = []\n",
    "    for x, y in df.lawlab_opened.items():\n",
    "        date = y\n",
    "        bday = df['DOB'][x]\n",
    "        age = date.year - bday.year - ((date.month, date.day) < (bday.month, bday.day))\n",
    "        z.append(age)\n",
    "    return z\n",
    "\n",
    "def calculateRace(df):\n",
    "    api = ['Vietnamese','Koreans','Japanese','Tajiks','Hindustani']\n",
    "    white = ['Russians','Portuguese','English','Moldovans','Romanians','Ukrainians','Armenians']\n",
    "    black = ['Garifuna']\n",
    "    latinx = ['Latino']\n",
    "    other = ['Arabs', 'Lebanese']\n",
    "    dapic = []\n",
    "    dwhite = []\n",
    "    dblack = []\n",
    "    dlatinx = []\n",
    "    dother = []\n",
    "    to_keep = []\n",
    "    race_to_keep = ['American Indian or Alaska Native', 'Black or African American', 'Asian', 'Native Hawaiian or Pacific Islander', 'White']\n",
    "    race_to_replace = {'American Indian or Alaska Native':'Indigenous', 'Black or African American':'Black', 'Native Hawaiian or Pacific Islander':'Asian/Pacific Islander', 'Asian':'Asian/Pacific Islander'}\n",
    "    for x, y in df['race'].items():\n",
    "        if y in race_to_keep:\n",
    "            to_keep.append(x)\n",
    "        else:\n",
    "            pass\n",
    "    \n",
    "    df.replace(to_replace=race_to_replace, value=None, inplace=True)\n",
    "    \n",
    "    for x, y in df['ethnicity'].items():\n",
    "        if x in to_keep:\n",
    "            pass\n",
    "        else:\n",
    "            if y in api:\n",
    "                print((str(df['ethnicity'][x]) + ' and ' + str(df['race'][x]))  + ' converted to ' + 'Asian/Pacific Islander' + ' index= ' + str(x))\n",
    "                dapic.append(x)\n",
    "            elif y in white:\n",
    "                print((str(df['ethnicity'][x]) + ' and ' + str(df['race'][x]))  + ' converted to ' + 'White' + ' index= ' + str(x))\n",
    "                dwhite.append(x)\n",
    "            elif y in black:\n",
    "                print((str(df['ethnicity'][x]) + ' and ' + str(df['race'][x]))  + ' converted to ' + 'Black' + ' index= ' + str(x))\n",
    "                dblack.append(x)\n",
    "            elif y in latinx:\n",
    "                print((str(df['ethnicity'][x]) + ' and ' + str(df['race'][x]))  + ' converted to ' + 'Latino' + ' index= ' + str(x))\n",
    "                dlatinx.append(x)\n",
    "            elif y in other:\n",
    "                print((str(df['ethnicity'][x]) + ' and ' + str(df['race'][x]))  + ' converted to ' + 'Other' + ' index= ' + str(x))\n",
    "                dother.append(x)\n",
    "            elif y == 'Hispanic' and type(df['race'][x]) != str:\n",
    "                # print((str(df['ethnicity'][x]) + ' and ' + str(df['race'][x]))  + ' converted to ' + 'Latinx')\n",
    "                dlatinx.append(x)\n",
    "    \n",
    "    for x in dapic:\n",
    "        df.loc[x, 'race'] = 'Asian/Pacific Islander'\n",
    "    for x in dwhite:\n",
    "        df.loc[x, 'race'] = 'White'\n",
    "    for x in dblack:\n",
    "        df.loc[x, 'race'] = 'Black'\n",
    "    for x in dlatinx:\n",
    "        df.loc[x, 'race'] = 'Latinx'\n",
    "    for x in dother:\n",
    "        df.loc[x, 'race'] = 'Other'\n",
    "\n",
    "    return df\n",
    "\n",
    "# im avoiding multi-racial because i feel like that would smudge out a small but important indigenous, black portion of our population\n",
    "# i would rather use a different category other than other for MENA \n",
    "# there are a few people who were recorded as 'hispanic' and 'other' - these people will stay as 'other'\n",
    "# there is one person was recorded as 'latino' and 'other' - they will stay as latinx, because they intentionclty selected latinx over other \n",
    "# i can easily update the list of which people need to be converted to which race category within the function "
   ]
  },
  {
   "cell_type": "code",
   "execution_count": null,
   "id": "1b76b972-c21e-4a4c-a0fa-78e516b9ce4e",
   "metadata": {},
   "outputs": [],
   "source": [
    "cwd = os.getcwd().strip('python_files')"
   ]
  },
  {
   "cell_type": "code",
   "execution_count": null,
   "id": "8f6d5619-f618-433b-931a-560f8232d64a",
   "metadata": {},
   "outputs": [],
   "source": [
    "files = ['opened','closed','adelanto','dublin','gsa','imperial','mvdf','otaymesa','yuba']"
   ]
  },
  {
   "cell_type": "code",
   "execution_count": null,
   "id": "75e04965-db57-47e3-b8ea-6cc62fef9f7e",
   "metadata": {},
   "outputs": [],
   "source": [
    "opened, closed, adelanto, dublin, gsa, imperial, mvdf, otaymesa, yuba = [open_file_1(x) for x in files]\n"
   ]
  },
  {
   "cell_type": "code",
   "execution_count": null,
   "id": "caa857f2-ed28-47e5-b176-c41108b97eee",
   "metadata": {},
   "outputs": [],
   "source": [
    "cases = pd.concat([opened,closed])\n",
    "cases = cases.loc[~cases.index.duplicated(),:]"
   ]
  },
  {
   "cell_type": "code",
   "execution_count": null,
   "id": "7272dd47-1016-47b4-b44e-57ca7f2cb578",
   "metadata": {},
   "outputs": [],
   "source": [
    "cases = cases[cases['opened']>='2020-01-01']"
   ]
  },
  {
   "cell_type": "code",
   "execution_count": null,
   "id": "45fd827d-c3e0-44c6-9972-913e959e376e",
   "metadata": {},
   "outputs": [],
   "source": [
    "dcs = [adelanto, dublin, gsa, imperial, mvdf, otaymesa, yuba]"
   ]
  },
  {
   "cell_type": "code",
   "execution_count": null,
   "id": "8c4643a4-4cc0-4dca-8193-3b36a0657796",
   "metadata": {},
   "outputs": [],
   "source": [
    "dcs = pd.concat(dcs)"
   ]
  },
  {
   "cell_type": "code",
   "execution_count": null,
   "id": "3173c8ec-0007-4d65-8969-08460c32e701",
   "metadata": {},
   "outputs": [],
   "source": [
    "dcs"
   ]
  },
  {
   "cell_type": "code",
   "execution_count": null,
   "id": "7db1010d-1c27-4738-ab26-a9bd751f36c6",
   "metadata": {},
   "outputs": [],
   "source": [
    "dcs.caseaction_id.value_counts()"
   ]
  },
  {
   "cell_type": "code",
   "execution_count": null,
   "id": "9c15226d-8565-41df-ad34-e70b62b0bb12",
   "metadata": {},
   "outputs": [],
   "source": [
    "dcs = dcs['caseaction_id']"
   ]
  },
  {
   "cell_type": "code",
   "execution_count": null,
   "id": "56b4c285-17d1-44ed-aa87-a4144d9b5b71",
   "metadata": {},
   "outputs": [],
   "source": [
    "df = cases.merge(dcs, on=['caseregisters_id'])\n"
   ]
  },
  {
   "cell_type": "code",
   "execution_count": null,
   "id": "a171dd5a-9141-4716-be7f-68c54e7fd9de",
   "metadata": {},
   "outputs": [],
   "source": [
    "cases.head()"
   ]
  },
  {
   "cell_type": "code",
   "execution_count": null,
   "id": "581abd8e-503e-4120-b5b9-ae6d2c917599",
   "metadata": {},
   "outputs": [],
   "source": [
    "pd.options.display.max_rows = 1500"
   ]
  },
  {
   "cell_type": "code",
   "execution_count": null,
   "id": "7747a502-d477-4f44-8de7-c1f07d285d0d",
   "metadata": {},
   "outputs": [],
   "source": [
    "not_cases = cases.loc[~cases.index.isin(df.index),:]"
   ]
  },
  {
   "cell_type": "code",
   "execution_count": null,
   "id": "cdf8161d-246e-483e-992f-eb05174bcc38",
   "metadata": {},
   "outputs": [],
   "source": [
    "df = pd.concat([df,not_cases])\n",
    "df.shape"
   ]
  },
  {
   "cell_type": "code",
   "execution_count": null,
   "id": "30b4c9a3-7d08-421a-9e80-38bb31f5eab8",
   "metadata": {},
   "outputs": [],
   "source": [
    "df = df.drop_duplicates(subset='record_id',keep='first')\n",
    "df.shape"
   ]
  },
  {
   "cell_type": "code",
   "execution_count": null,
   "id": "1896ea9e-1a59-40cd-a7ca-2b6295714dbd",
   "metadata": {},
   "outputs": [],
   "source": [
    "df.caseaction_id.value_counts()"
   ]
  },
  {
   "cell_type": "code",
   "execution_count": null,
   "id": "abeacf11-b860-4bbd-b4b2-dace16ef18be",
   "metadata": {},
   "outputs": [],
   "source": [
    "df = fix_caseaction_id(df)\n",
    "df = df.set_index('record_id')"
   ]
  },
  {
   "cell_type": "code",
   "execution_count": null,
   "id": "356b542e-0ae9-4f0d-9e6d-8107780ee23f",
   "metadata": {},
   "outputs": [],
   "source": [
    "df.caseaction_id.value_counts()"
   ]
  },
  {
   "cell_type": "markdown",
   "id": "276417b9-1e9d-4851-8cb1-add3b5799968",
   "metadata": {},
   "source": [
    "**now onto the demographic columns**\n",
    "\n",
    "I'm going to adjust the open file command to ignore records with multiple cases."
   ]
  },
  {
   "cell_type": "code",
   "execution_count": null,
   "id": "2918d61e-3b78-43e6-9f64-2dd497a08450",
   "metadata": {},
   "outputs": [],
   "source": [
    "df.sort_values(by='opened').tail()"
   ]
  },
  {
   "cell_type": "code",
   "execution_count": null,
   "id": "08bdfd2e-a7c1-4236-a370-b1f49d387569",
   "metadata": {},
   "outputs": [],
   "source": [
    "cols = ['gender_id','DOB','aNum','birth_country_id','address','city','county','state','zip','language_id','race','ethnicity','immigration_status_id','initiated_date']"
   ]
  },
  {
   "cell_type": "code",
   "execution_count": null,
   "id": "3cf38c18-4a42-4f8d-84fe-201bd2cd832f",
   "metadata": {},
   "outputs": [],
   "source": [
    "gender_id, DOB, aNum, birth_country_id, address, city, county, state, zip, language_id, race, ethnicity, immigration_status_id, initiated_date = [open_file_2(x) for x in cols]"
   ]
  },
  {
   "cell_type": "code",
   "execution_count": null,
   "id": "84b1e7b5-4502-480a-95d7-4fc5768ff25f",
   "metadata": {},
   "outputs": [],
   "source": [
    "cols_ser = [gender_id, DOB, aNum, birth_country_id, address, city, county, state, zip, language_id, race, ethnicity, immigration_status_id, initiated_date]"
   ]
  },
  {
   "cell_type": "code",
   "execution_count": null,
   "id": "9b4fd963-10c5-47c2-84f8-961f06c6d773",
   "metadata": {},
   "outputs": [],
   "source": [
    "df = df.join(cols_ser)"
   ]
  },
  {
   "cell_type": "code",
   "execution_count": null,
   "id": "0ac6f3d3-dfd0-4b3f-8444-a10bb105e61b",
   "metadata": {
    "tags": []
   },
   "outputs": [],
   "source": [
    "colsStr = [\"aNum\", \"address\", \"city\", \"county\", \"state\", \"zip\", \"gender_id\", \"DOB\", \"birth_country_id\", \"ethnicity\",\n",
    "           \"race\", \"language_id\", \"immigration_status_id\", \"initiated_date\", \"pob\"]\n",
    "corCol = {'opened':'lawlab_opened', 'firstName':'first_name', 'lastName':'last_name', 'caseaction_id':'cohort', 'aNum':'a_number', 'gender_id':'gender', 'birth_country_id':'country_of_birth', 'language_id':'language', 'immigration_status_id':'immigration_status', 'initiated_date':'date_detained', 'closed':'lawlab_closed', 'comment':'transfers', 'casetype_id':'casetype'}\n",
    "corCity = {'Pamona': 'Pomona', 'Azuza': 'Azusa', 'Monte': 'El Monte', 'El Puente': 'La Puente', 'Santa Barbera': 'Santa Barbera', 'San Francico': 'San Francisco', 'Anahaim': 'Anaheim', 'Colinga': 'Coalinga', 'Westminister': 'Westminster', 'Fondana': 'Fontana', 'Vajello': 'Vallejo', 'Pittsburgh': 'Pittsburg','San Jose / Milpitas':'San Jose'}\n",
    "corCountry = {'CHINA':'China, Peoples Republic of', \"LAO PEOPLE'S DEMOCRATIC REPUBLIC\":'Laos', 'MOLDOVA, REPUBLIC OF':'Moldova', 'AMERICAN SAMOA':'SAMOA', 'CZECH REPUBLIC':'Czechia (Czech Republic)'}\n",
    "cor_ice_country = {'CHINA':'China, Peoples Republic of', \"LAO PEOPLE'S DEMOCRATIC REPUBLIC\":'Laos', 'MOLDOVA, REPUBLIC OF':'Moldova', 'AMERICAN SAMOA':'Samoa', 'Czechia (Czech Republic)':'Czech Republic', 'AZERBAIJAN':'Azerbaijan','TAIWAN, PROVINCE OF CHINA':'Taiwan', 'VIRGIN ISLANDS, BRITISH':'British Virgin Islands','SRI LANKA':'Sri Lanka','MARSHALL ISLANDS':'Marshall Islands',\"KOREA, DEMOCRATIC PEOPLE'S REPUBLIC OF\":'North Korea','PALESTINIAN TERRITORY, OCCUPIED':'ISRAEL'}\n",
    "corCohort = {'@Golden State':'Golden State Annex', '@MVDF':'Mesa Verde Detention Facility', '@Yuba':'Yuba County Detention Facility', '@Dublin':'FCI Dublin', '@Imperial':'Imperial Regional Detention Center','@Otay Mesa':'Otay Mesa Detention Center', '@Adelanto':'Adelanto Detention Facility'}\n",
    "corImm = {'No Lawful Status / No Estatus Legal':'Undocumented', 'LPR (Lawful Permanent Resident) / (Residente Legal Permanente)':'LPR', 'Unknown / Desconocidx':'Unknown', 'Other / Otro':'Other', 'Asylee / Asiladx':'Asylee'}\n",
    "corGender = {'Non-binary':'Nonbinary'}\n",
    "corCasetype = {'Golden State KYR - Golden State Detention Visits':'GSA-KYR', 'MVDF KYR - Detention Visit (Centro)':'Partner Intake', \n",
    "               'AOD - Detained Attorney of the Day':'AOD/Courtwatch', 'CCIJ Yuba KYR - Yuba Detention Visits':'Yuba-KYR', 'Hotline - CCIJ Hotline Calls':'Direct Contact',\n",
    "               'RO-VD (AOD) - AOD Removals/Voluntary Departure':'AOD/Courtwatch', 'Referrals - Referrals to CCIJ':'Referral', 'RAPID RESPONSE - Regional Rapid Response':'Rapid Response',\n",
    "               'AB32 MVDF - AB32 Coordination':'Partner Intake', 'SFPD - SF Public Defender':'Partner Intake','DUBLIN - IHP Dublin':'Partner Intake',\n",
    "              'Other ICE Detention - ICE Detention other than Yuba/MVDF/GSA':'Other', 'Rmvl Defense-Other - Termination, Suppression, etc.':'Other','Removal Defense-Bond - Bond Hearing':'Other', 'Release Request-ICE - Parole, OR, etc.':'Other', 'Rmvl Defense-Asylum - Asylum, W/H, CAT':'Other', 'CFI/RFI - Credible or Reasonable Fear Interview':'Other','BIA - BIA Appeal':'Other', 'Affirmative AOS - AOS with USCIS':'Other'}\n",
    "corCounty = {'San Bernadino':'San Bernardino'}"
   ]
  },
  {
   "cell_type": "code",
   "execution_count": null,
   "id": "bb4f631b-85f5-4637-a429-7a338d0dd48b",
   "metadata": {
    "tags": []
   },
   "outputs": [],
   "source": [
    "df = df.rename(mapper=corCol, axis=1)\n",
    "df['a_number'] = df['a_number'].astype('str')\n",
    "\n",
    "df['county']=df['county'].str.title()\n",
    "df['county'] = df['county'].where(df['county']!=\"Unknown\")\n",
    "df['city']=df['city'].str.title()\n",
    "df['zip']=df['zip'].astype('str')\n",
    "\n",
    "df.loc[~df.county.isna(),'county'] = df.loc[~df.county.isna(),'county'].replace(to_replace='(\\s+County)', value='', regex=True).replace(to_replace='(\\s+County)', value='', regex=True)\n",
    "\n",
    "df['city'].replace(to_replace=corCity, value=None, inplace=True)\n",
    "df['county'].replace(to_replace=corCounty, value=None, inplace=True)\n",
    "df['country_of_birth'].replace(to_replace=corCountry, value=None, inplace=True)\n",
    "df['ice_country_of_birth'] = df['country_of_birth'].replace(to_replace=cor_ice_country, value=None)\n",
    "df['cohort'].replace(to_replace=corCohort, value=None, inplace=True)\n",
    "df['immigration_status'].replace(to_replace=corImm, value=None, inplace=True)  \n",
    "df['gender'].replace(to_replace=corGender, value=None, inplace=True)\n",
    "df['casetype'].replace(to_replace=corCasetype, value=None, inplace=True)\n",
    "df['presumed_detained'] = df['lawlab_closed']\n",
    "df['presumed_detained'].replace(to_replace=r'(.+)', value=False, inplace=True, regex=True)\n",
    "df['presumed_detained'].fillna(value=True, inplace=True)\n",
    "\n",
    "df['lawlab_opened'] = pd.to_datetime(df['lawlab_opened'])\n",
    "df['DOB'] = pd.to_datetime(df['DOB'])\n",
    "df['age_at_open'] = age_open(df)\n",
    "\n",
    "df = calculateRace(df)"
   ]
  },
  {
   "cell_type": "code",
   "execution_count": null,
   "id": "59c509c0-d76b-4e00-a7f3-5fbb856c6f4b",
   "metadata": {},
   "outputs": [],
   "source": [
    "df.cohort.value_counts()"
   ]
  },
  {
   "cell_type": "code",
   "execution_count": null,
   "id": "d32f312a-6b17-49b0-98cd-5bec2bffc4eb",
   "metadata": {},
   "outputs": [],
   "source": []
  },
  {
   "cell_type": "code",
   "execution_count": null,
   "id": "725fdbd0-4ac5-4bf8-ac5d-d1dd9b75bca9",
   "metadata": {},
   "outputs": [],
   "source": [
    "cn = pd.read_csv(cwd+'data/raw_csv_files/data_set/casenote.csv')"
   ]
  },
  {
   "cell_type": "code",
   "execution_count": null,
   "id": "f80c5e5b-57d0-4778-8a59-fb278c6899ca",
   "metadata": {},
   "outputs": [],
   "source": [
    "cn.drop_duplicates(subset='record_id', keep='first', inplace=True)"
   ]
  },
  {
   "cell_type": "code",
   "execution_count": null,
   "id": "14e1f91f-23a5-4f6b-aaba-4dd4c1feb81a",
   "metadata": {},
   "outputs": [],
   "source": [
    "cn = cn[cn['comment'].str.contains(pat=r'(?i)(?i)in\\Wp\\wrs\\wn\\Wclinic|ipc', regex=True, na=False)]"
   ]
  },
  {
   "cell_type": "code",
   "execution_count": null,
   "id": "a643ec00-3df9-426b-93ed-7b6ad0a506bc",
   "metadata": {},
   "outputs": [],
   "source": [
    "ipc = cn.record_id.values.astype('str')"
   ]
  },
  {
   "cell_type": "code",
   "execution_count": null,
   "id": "99feeb4b-27a8-4c94-83d0-80506e0622bc",
   "metadata": {},
   "outputs": [],
   "source": [
    "df = df.reset_index()\n",
    "df.record_id = df.record_id.astype(str)"
   ]
  },
  {
   "cell_type": "code",
   "execution_count": null,
   "id": "c37ac6c2-374a-42e4-80a2-8295c077eef0",
   "metadata": {},
   "outputs": [],
   "source": [
    "df[df['casetype']=='GSA-KYR']['casetype'] = 'Remote Clinic'"
   ]
  },
  {
   "cell_type": "code",
   "execution_count": null,
   "id": "4a7a4a78-c337-4bbf-ba71-2356952a12bc",
   "metadata": {},
   "outputs": [],
   "source": [
    "df.casetype.replace(to_replace='GSA-KYR',value='Remote Clinic', inplace=True)\n",
    "df.loc[df['record_id'].isin(ipc),'casetype'] = 'In Person Clinic'"
   ]
  },
  {
   "cell_type": "code",
   "execution_count": null,
   "id": "1b6ca584-45e3-4619-b7da-d467a8bd7b92",
   "metadata": {},
   "outputs": [],
   "source": [
    "yc = df[df['casetype']=='Yuba-KYR']"
   ]
  },
  {
   "cell_type": "code",
   "execution_count": null,
   "id": "137fdfde-6891-4029-86fd-d9e623ddab7f",
   "metadata": {},
   "outputs": [],
   "source": [
    "yipc = yc[yc['lawlab_opened']<'2020-03-01']"
   ]
  },
  {
   "cell_type": "code",
   "execution_count": null,
   "id": "d5562ba6-a8f7-42a9-83c2-4b12800e738e",
   "metadata": {},
   "outputs": [],
   "source": [
    "yipc = yipc.record_id.values"
   ]
  },
  {
   "cell_type": "code",
   "execution_count": null,
   "id": "37f1ea17-7436-4a4e-a90f-a0a7f46573c5",
   "metadata": {},
   "outputs": [],
   "source": [
    "yrc = yc[yc['lawlab_opened']<'2022-09-01']"
   ]
  },
  {
   "cell_type": "code",
   "execution_count": null,
   "id": "72f9b053-2d8c-4163-af00-6ff07777d1c3",
   "metadata": {},
   "outputs": [],
   "source": [
    "yrc = yrc[yrc['lawlab_opened']>'2020-3-01']"
   ]
  },
  {
   "cell_type": "code",
   "execution_count": null,
   "id": "fe1fc74d-ee71-4348-bc85-5a226bc53613",
   "metadata": {},
   "outputs": [],
   "source": [
    "yrc = yrc.record_id.values"
   ]
  },
  {
   "cell_type": "code",
   "execution_count": null,
   "id": "10f0264a-12fc-4cb0-9d5d-ba1c2526ef6f",
   "metadata": {},
   "outputs": [],
   "source": [
    "ypi = yc[yc['lawlab_opened']>'2022-09-01']"
   ]
  },
  {
   "cell_type": "code",
   "execution_count": null,
   "id": "4b0ce4b3-8200-4909-a481-ff6a6b5bdbd5",
   "metadata": {},
   "outputs": [],
   "source": [
    "ypi = ypi.record_id.values"
   ]
  },
  {
   "cell_type": "code",
   "execution_count": null,
   "id": "51bf5387-495c-424b-bd7e-8b06e770228b",
   "metadata": {},
   "outputs": [],
   "source": [
    "df.loc[df['record_id'].isin(yipc),'casetype'] = 'In Person Clinic'\n",
    "df.loc[df['record_id'].isin(yrc),'casetype'] = 'Remote Clinic'\n",
    "df.loc[df['record_id'].isin(ypi),'casetype'] = 'Partner Intake'"
   ]
  },
  {
   "cell_type": "code",
   "execution_count": null,
   "id": "4a779c18-1eb4-405d-a572-88a0751e8aaa",
   "metadata": {},
   "outputs": [],
   "source": [
    "df.casetype.value_counts()"
   ]
  },
  {
   "cell_type": "code",
   "execution_count": null,
   "id": "6fab0219-3523-4817-be73-2efdb925bc4a",
   "metadata": {},
   "outputs": [],
   "source": [
    "df.drop('caseevent_id',axis=1,inplace=True)"
   ]
  },
  {
   "cell_type": "code",
   "execution_count": null,
   "id": "dd50e5ef-0d4c-40f0-adb7-00ebc994bd28",
   "metadata": {},
   "outputs": [],
   "source": [
    "df.head()"
   ]
  },
  {
   "cell_type": "code",
   "execution_count": null,
   "id": "bd62e743-e18a-40df-a041-9955a02ba69c",
   "metadata": {},
   "outputs": [],
   "source": [
    "country_list = pd.read_csv(cwd+'data/supplement/country_list.csv')"
   ]
  },
  {
   "cell_type": "code",
   "execution_count": null,
   "id": "43bc8b44-331e-4b14-846e-b5a7c98ccc28",
   "metadata": {},
   "outputs": [],
   "source": [
    "df[~df['country_of_birth'].isin(country_list['country'])].country_of_birth.value_counts()"
   ]
  },
  {
   "cell_type": "markdown",
   "id": "d2e92d8d-d4f2-4b3a-b5a1-8ed646008770",
   "metadata": {},
   "source": [
    "**this function below shows the ice country of birth values that are not aligned with the ICE COB values. modify the ice_country_of_birth variable**"
   ]
  },
  {
   "cell_type": "code",
   "execution_count": null,
   "id": "5ff7b044-be6d-477f-9d4e-d2e7142d3f17",
   "metadata": {},
   "outputs": [],
   "source": [
    "df[~df['ice_country_of_birth'].isin(country_list['country'])].country_of_birth.value_counts()"
   ]
  },
  {
   "cell_type": "code",
   "execution_count": null,
   "id": "1569126d-7399-44e2-9230-21784d4a2717",
   "metadata": {},
   "outputs": [],
   "source": [
    "df.drop('party_id', axis=1,inplace=True)"
   ]
  },
  {
   "cell_type": "code",
   "execution_count": null,
   "id": "7577f5f4-66d8-402f-a00d-d5812f4cb1b9",
   "metadata": {},
   "outputs": [],
   "source": [
    "df.casetype.value_counts()"
   ]
  },
  {
   "cell_type": "code",
   "execution_count": null,
   "id": "031db43e-d6d1-4425-9e9d-aa64468b1682",
   "metadata": {},
   "outputs": [],
   "source": [
    "df.cohort.value_counts()"
   ]
  },
  {
   "cell_type": "code",
   "execution_count": null,
   "id": "71170d98-be7e-445f-8624-a8e7a9e10fc8",
   "metadata": {},
   "outputs": [],
   "source": [
    "df.drop(labels=['address', 'ethnicity','age_at_open'], axis=1, inplace=True)\n",
    "fn1 =cwd+'data/exported_files/dataset/export_'+pd.to_datetime('today').strftime('%Y-%m-%d')+'.csv'\n",
    "fn2 =cwd+'data/exported_files/dataset/export.csv'\n",
    "df.to_csv(fn1)\n",
    "df.to_csv(fn2)"
   ]
  },
  {
   "cell_type": "code",
   "execution_count": null,
   "id": "d4d6cde2-9c62-44d5-ac18-347759aae371",
   "metadata": {},
   "outputs": [],
   "source": [
    "df.cohort.value_counts()"
   ]
  },
  {
   "cell_type": "code",
   "execution_count": null,
   "id": "897aca0c-97f3-4b95-aa56-31aa5a611e3e",
   "metadata": {},
   "outputs": [],
   "source": [
    "df.columns"
   ]
  }
 ],
 "metadata": {
  "kernelspec": {
   "display_name": "Python 3 (ipykernel)",
   "language": "python",
   "name": "python3"
  },
  "language_info": {
   "codemirror_mode": {
    "name": "ipython",
    "version": 3
   },
   "file_extension": ".py",
   "mimetype": "text/x-python",
   "name": "python",
   "nbconvert_exporter": "python",
   "pygments_lexer": "ipython3",
   "version": "3.9.7"
  }
 },
 "nbformat": 4,
 "nbformat_minor": 5
}
