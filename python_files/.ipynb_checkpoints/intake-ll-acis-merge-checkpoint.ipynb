{
 "cells": [
  {
   "cell_type": "code",
   "execution_count": null,
   "id": "6858cbe4-0087-49ed-a474-ebdbc8501d8e",
   "metadata": {},
   "outputs": [],
   "source": [
    "import pandas as pd\n",
    "import numpy as np\n",
    "import seaborn as sns\n",
    "import matplotlib.pyplot as plt\n",
    "\n",
    "pd.options.display.max_columns = 1000\n",
    "pd.options.display.max_rows = 120"
   ]
  },
  {
   "cell_type": "markdown",
   "id": "1d44366c-2c26-491b-9975-e298aca78c4e",
   "metadata": {},
   "source": [
    "**changing this to regular LL sheet, revert to LL_acis once MP is updated**"
   ]
  },
  {
   "cell_type": "code",
   "execution_count": null,
   "id": "d57ded1f-db54-44ae-a9fe-d7da1a423b68",
   "metadata": {},
   "outputs": [],
   "source": [
    "#ll_acis = pd.read_csv(r'/Users/stjames/Dropbox/Pablo/data/weekly data transfer/combined/all_combined_2022.csv')\n",
    "ll_acis = pd.read_csv(r'/Users/stjames/Dropbox/Pablo/data/bianca 2022-09-12/sv.csv')\n",
    "intakes = pd.read_csv(r'/Users/stjames/Dropbox/Pablo/data/intake-extract/intakes_2022.csv')"
   ]
  },
  {
   "cell_type": "code",
   "execution_count": null,
   "id": "d73c28f5-5958-438e-b8de-3321d1404aca",
   "metadata": {},
   "outputs": [],
   "source": [
    "def fix_a(df):\n",
    "    df.loc[~df['a_number'].isna(), 'a_number'] = df.loc[~df['a_number'].isna(), 'a_number'].astype(str)\n",
    "    for x, y in df[~df['a_number'].isna()]['a_number'].items():\n",
    "        if len(y) == 8:\n",
    "            df.loc[x, 'a_number'] = '0'+y\n",
    "    return df\n",
    "\n",
    "def age_open(df):\n",
    "    z = []\n",
    "    for x, y in df.lawlab_opened.items():\n",
    "        date = y\n",
    "        bday = df['DOB'][x]\n",
    "        age = date.year - bday.year - ((date.month, date.day) < (bday.month, bday.day))\n",
    "        z.append(age)\n",
    "    return z\n"
   ]
  },
  {
   "cell_type": "code",
   "execution_count": null,
   "id": "2d2eecf1-5d0c-4359-af2e-9c0deddcd8c1",
   "metadata": {},
   "outputs": [],
   "source": [
    "intakes = fix_a(intakes)\n",
    "ll_acis = fix_a(ll_acis)"
   ]
  },
  {
   "cell_type": "code",
   "execution_count": null,
   "id": "44d94e3d-68b1-40a9-bd9c-23ec484df7e1",
   "metadata": {},
   "outputs": [],
   "source": [
    "intakes.shape"
   ]
  },
  {
   "cell_type": "code",
   "execution_count": null,
   "id": "324ffd42-38bd-4463-95b3-782224921157",
   "metadata": {},
   "outputs": [],
   "source": [
    "ll_acis.shape"
   ]
  },
  {
   "cell_type": "code",
   "execution_count": null,
   "id": "abe21ba1-e73e-431c-8c9a-2703da540065",
   "metadata": {},
   "outputs": [],
   "source": [
    "df = ll_acis.merge(intakes, on='a_number')\n",
    "df = df.convert_dtypes()\n",
    "df = df.copy()"
   ]
  },
  {
   "cell_type": "code",
   "execution_count": null,
   "id": "c2b63ee3-dc95-4943-9bd9-6fe0db0e6161",
   "metadata": {},
   "outputs": [],
   "source": [
    "df.loc[df.record_id.duplicated(),:]"
   ]
  },
  {
   "cell_type": "markdown",
   "id": "62374fbe-5a66-4776-80e0-f66e48770c53",
   "metadata": {},
   "source": [
    "important to convert dtypes bc you can't have np.nan and int values in same column\n",
    "must convert to pd.NA"
   ]
  },
  {
   "cell_type": "code",
   "execution_count": null,
   "id": "c3d36aaf-d7d7-440b-8de5-c26705292569",
   "metadata": {},
   "outputs": [],
   "source": []
  },
  {
   "cell_type": "code",
   "execution_count": null,
   "id": "48b2ffaf-44ec-4bf0-90d4-b19071353415",
   "metadata": {},
   "outputs": [],
   "source": [
    "df.shape"
   ]
  },
  {
   "cell_type": "code",
   "execution_count": null,
   "id": "52485d48-d3a1-485d-8b01-2b1c9614575a",
   "metadata": {},
   "outputs": [],
   "source": [
    "df.to_csv(r'/Users/stjames/Dropbox/Pablo/data/full-database/ccij-database.csv')"
   ]
  },
  {
   "cell_type": "code",
   "execution_count": null,
   "id": "af56777a-9b38-447c-9be4-daefac8cba8c",
   "metadata": {},
   "outputs": [],
   "source": [
    "df['lawlab_opened'] = pd.to_datetime(df['lawlab_opened'])\n",
    "df['DOB'] = pd.to_datetime(df['DOB'])"
   ]
  },
  {
   "cell_type": "code",
   "execution_count": null,
   "id": "86da5634-b7d4-432f-bc26-f96ac72e09ac",
   "metadata": {},
   "outputs": [],
   "source": [
    "df['age_at_open'] = age_open(df)\n"
   ]
  },
  {
   "cell_type": "code",
   "execution_count": null,
   "id": "b2e3e3c0-2c3c-4006-ac30-f29d7d024a6d",
   "metadata": {},
   "outputs": [],
   "source": [
    "df.age_at_open.value_counts()"
   ]
  },
  {
   "cell_type": "code",
   "execution_count": null,
   "id": "b1904807-f5aa-4634-a219-20ce572e7975",
   "metadata": {},
   "outputs": [],
   "source": [
    "ser = df.set_index('lawlab_opened')['a_number'].groupby(pd.Grouper(freq='1M')).count()\n",
    "count = pd.DataFrame(data=ser.values, index=ser.index, columns=['count'])"
   ]
  },
  {
   "cell_type": "code",
   "execution_count": null,
   "id": "bd9ab4f6-8396-42a5-99a4-81194ed5a421",
   "metadata": {},
   "outputs": [],
   "source": [
    "plt.figure(figsize = (17,12))\n",
    "sns.lineplot(data=count, x='lawlab_opened',y='count', ci=None).set(title='signups per month', xlabel='date', ylabel='count')"
   ]
  },
  {
   "cell_type": "markdown",
   "id": "4a7272c3-f9ab-40d0-bc4a-0f7603314286",
   "metadata": {},
   "source": [
    "### sign ups per month, past 10 months"
   ]
  },
  {
   "cell_type": "code",
   "execution_count": null,
   "id": "0055de68-7f44-4d9f-ac72-3b3603740273",
   "metadata": {},
   "outputs": [],
   "source": [
    "count[-10:]"
   ]
  },
  {
   "cell_type": "markdown",
   "id": "21076e5b-af4c-4bc3-906e-77bafe9ae260",
   "metadata": {},
   "source": [
    "### age at arrest, 14 day average"
   ]
  },
  {
   "cell_type": "code",
   "execution_count": null,
   "id": "f703ecd2-aaa9-48dc-b875-8d4f56891d9b",
   "metadata": {},
   "outputs": [],
   "source": [
    "df = df.sort_values('lawlab_opened')\n",
    "ser = df.set_index('lawlab_opened').age_at_open.rolling('14D').mean()\n",
    "age = pd.DataFrame(data=ser.values, index=ser.index, columns=['avg_age_14D'])\n",
    "age = age.loc[~age.index.duplicated(keep='last'),:]"
   ]
  },
  {
   "cell_type": "code",
   "execution_count": null,
   "id": "3335ca03-8a61-4837-adb6-d1013927a414",
   "metadata": {},
   "outputs": [],
   "source": [
    "plt.figure(figsize = (17,12))\n",
    "sns.lineplot(data=age, x='lawlab_opened',y='avg_age_14D', ci=None).set(title='Age at arrest - 14 day average', xlabel='date arrested', ylabel='age')"
   ]
  },
  {
   "cell_type": "code",
   "execution_count": null,
   "id": "ec547cc1-49c5-43af-98a2-33db4d8cb06c",
   "metadata": {},
   "outputs": [],
   "source": [
    "round(age[-10:])"
   ]
  },
  {
   "cell_type": "markdown",
   "id": "611e76fe-05d6-48d1-948e-25533cf52b77",
   "metadata": {},
   "source": [
    "**imm atty at intake**"
   ]
  },
  {
   "cell_type": "code",
   "execution_count": null,
   "id": "9d054624-d3cc-48bc-89d5-0aee31fa7059",
   "metadata": {},
   "outputs": [],
   "source": [
    "df[df['timestamp']=='2022-03-25']['imm_atty'].value_counts()"
   ]
  },
  {
   "cell_type": "markdown",
   "id": "0024c1bf-e84d-430b-868c-66356fd9b32c",
   "metadata": {},
   "source": [
    "compared to full dataset %"
   ]
  },
  {
   "cell_type": "code",
   "execution_count": null,
   "id": "390d78c9-efa7-42a0-839c-4451bd17a569",
   "metadata": {},
   "outputs": [],
   "source": [
    "round(df['imm_atty'].value_counts()/(len(df)-df['imm_atty'].isna().sum())*100)"
   ]
  },
  {
   "cell_type": "markdown",
   "id": "d0fc11cb-576a-42ca-8ff3-105142bd55bc",
   "metadata": {},
   "source": [
    "**race / ethnicity**"
   ]
  },
  {
   "cell_type": "code",
   "execution_count": null,
   "id": "8d7487c5-f8d7-4a7e-8e1c-1d5ac8024d4e",
   "metadata": {},
   "outputs": [],
   "source": [
    "df[df['timestamp']=='2022-03-25']['race'].value_counts()"
   ]
  },
  {
   "cell_type": "markdown",
   "id": "2f9eadf7-e14d-4230-82c1-15eaeed5c0be",
   "metadata": {},
   "source": [
    "full dataset"
   ]
  },
  {
   "cell_type": "code",
   "execution_count": null,
   "id": "8766c5f3-1e78-4115-be6b-0117f40d3b5e",
   "metadata": {},
   "outputs": [],
   "source": [
    "round(df['race'].value_counts()/(len(df)-df['race'].isna().sum())*100)"
   ]
  },
  {
   "cell_type": "markdown",
   "id": "f37cd4b5-7552-44be-9812-6543052ef59d",
   "metadata": {},
   "source": [
    "**entry manner 1**"
   ]
  },
  {
   "cell_type": "code",
   "execution_count": null,
   "id": "67ae55d1-e3bb-47bd-b6b5-9891f960f8d2",
   "metadata": {},
   "outputs": [],
   "source": [
    "df[df['timestamp']=='2022-03-25']['entry_manner_1'].value_counts()"
   ]
  },
  {
   "cell_type": "code",
   "execution_count": null,
   "id": "3d66878a-2544-4bd6-b3c3-4aa489ac72f1",
   "metadata": {},
   "outputs": [],
   "source": [
    "round(df['entry_manner_1'].value_counts()/(len(df)-df['entry_manner_1'].isna().sum())*100)"
   ]
  },
  {
   "cell_type": "markdown",
   "id": "98b648ee-db72-4408-8c85-3877eef3214b",
   "metadata": {},
   "source": [
    "**location detained by immigration**"
   ]
  },
  {
   "cell_type": "code",
   "execution_count": null,
   "id": "5d9d9497-3261-4d6c-bf6a-af6b2c3232e1",
   "metadata": {},
   "outputs": [],
   "source": [
    "df[df['timestamp']=='2022-03-25']['detained_where'].value_counts()"
   ]
  },
  {
   "cell_type": "code",
   "execution_count": null,
   "id": "dc4f92d5-7515-4195-8dfb-011f2a4223dc",
   "metadata": {},
   "outputs": [],
   "source": [
    "round(df['detained_where'].value_counts()/(len(df)-df['detained_where'].isna().sum())*100)[:10]"
   ]
  },
  {
   "cell_type": "code",
   "execution_count": null,
   "id": "c2b493b3-381c-42ab-be70-6da94ec0c8a4",
   "metadata": {},
   "outputs": [],
   "source": [
    "df['detained_where'].value_counts()"
   ]
  },
  {
   "cell_type": "markdown",
   "id": "2bdd85f7-7d2e-4335-88a1-b989a48fce1a",
   "metadata": {},
   "source": [
    "**current status**"
   ]
  },
  {
   "cell_type": "code",
   "execution_count": null,
   "id": "2634e2ed-a626-4538-8515-ea54129569aa",
   "metadata": {},
   "outputs": [],
   "source": [
    "df[df['timestamp']=='2022-03-25']['current_status'].value_counts()"
   ]
  },
  {
   "cell_type": "code",
   "execution_count": null,
   "id": "67549068-dd57-475a-945f-8e18d8eb44b3",
   "metadata": {},
   "outputs": [],
   "source": [
    "round(df['current_status'].value_counts()/(len(df)-df['current_status'].isna().sum())*100)[:10]"
   ]
  },
  {
   "cell_type": "markdown",
   "id": "c182b6f7-1a62-42e2-a5b1-81bdbc60729a",
   "metadata": {},
   "source": [
    "**total # of children**"
   ]
  },
  {
   "cell_type": "code",
   "execution_count": null,
   "id": "01d0fc92-8ae5-46ad-b55f-f5f9833d380a",
   "metadata": {},
   "outputs": [],
   "source": [
    "df[df['timestamp']=='2022-03-25']['total_child'].value_counts()"
   ]
  },
  {
   "cell_type": "code",
   "execution_count": null,
   "id": "dca5935a-e826-4433-b436-0275cfb212a6",
   "metadata": {},
   "outputs": [],
   "source": []
  },
  {
   "cell_type": "code",
   "execution_count": null,
   "id": "0490522e-3dfe-469b-934c-db8a9badb7eb",
   "metadata": {},
   "outputs": [],
   "source": [
    "round(df['total_child'].value_counts()/(len(df)-df['total_child'].isna().sum())*100)[:10]"
   ]
  },
  {
   "cell_type": "code",
   "execution_count": null,
   "id": "52a9d084-ffee-4330-8087-ec752c88213d",
   "metadata": {},
   "outputs": [],
   "source": [
    "df[df['timestamp']=='2022-03-25']['crim_county_1'].value_counts()"
   ]
  },
  {
   "cell_type": "code",
   "execution_count": null,
   "id": "c81b5e9a-80e7-431c-987f-76c589672cff",
   "metadata": {},
   "outputs": [],
   "source": [
    "round(df['crim_county_1'].value_counts()/(len(df)-df['crim_county_1'].isna().sum())*100)[:10]"
   ]
  },
  {
   "cell_type": "code",
   "execution_count": null,
   "id": "9424d1f7-bc5b-457d-823b-c28f7b00ad9a",
   "metadata": {},
   "outputs": [],
   "source": [
    "df[df['timestamp']=='2022-03-25']['marital_status'].value_counts()"
   ]
  },
  {
   "cell_type": "code",
   "execution_count": null,
   "id": "05285d3e-1650-459c-9b14-965927e1141b",
   "metadata": {},
   "outputs": [],
   "source": [
    "round(df['marital_status'].value_counts()/(len(df)-df['marital_status'].isna().sum())*100)[:10]"
   ]
  },
  {
   "cell_type": "code",
   "execution_count": null,
   "id": "32ffa0de-c979-4079-baab-f8ddfdbb649c",
   "metadata": {},
   "outputs": [],
   "source": [
    "df[df['timestamp']=='2022-03-25']['country_of_birth'].value_counts()"
   ]
  },
  {
   "cell_type": "code",
   "execution_count": null,
   "id": "56c5c542-b0b5-40c1-818a-565606296bd1",
   "metadata": {},
   "outputs": [],
   "source": [
    "round(df['country_of_birth'].value_counts()/(len(df)-df['country_of_birth'].isna().sum())*100)[:10]"
   ]
  },
  {
   "cell_type": "code",
   "execution_count": null,
   "id": "39c67635-1e8c-4321-97cd-25e440bf8656",
   "metadata": {},
   "outputs": [],
   "source": [
    "df.columns"
   ]
  },
  {
   "cell_type": "code",
   "execution_count": null,
   "id": "8b4e2366-dda4-4a8d-bba0-fefe3f9f7635",
   "metadata": {},
   "outputs": [],
   "source": [
    "pd.options.display.max_rows = 1000"
   ]
  },
  {
   "cell_type": "code",
   "execution_count": null,
   "id": "97704de9-5b3d-448e-addb-03e5568aff8d",
   "metadata": {},
   "outputs": [],
   "source": [
    "df.head()"
   ]
  },
  {
   "cell_type": "code",
   "execution_count": null,
   "id": "b655a059-6032-459e-9603-0cd917fa68c2",
   "metadata": {},
   "outputs": [],
   "source": []
  },
  {
   "cell_type": "code",
   "execution_count": null,
   "id": "6d7ebfb7-f18b-47a6-8f3f-60eea96f9287",
   "metadata": {},
   "outputs": [],
   "source": [
    "ser = df.set_index('timestamp')['a_number'].groupby(pd.Grouper(freq='1M')).count()\n",
    "count = pd.DataFrame(data=ser.values, index=ser.index, columns=['count'])"
   ]
  },
  {
   "cell_type": "code",
   "execution_count": null,
   "id": "ce144879-a057-4811-95cf-95db44801afc",
   "metadata": {},
   "outputs": [],
   "source": [
    "plt.figure(figsize = (17,12))\n",
    "sns.lineplot(data=count, x='lawlab_opened',y='count', ci=None).set(title='intakes per month', xlabel='date', ylabel='count')"
   ]
  },
  {
   "cell_type": "code",
   "execution_count": null,
   "id": "6f4a4746-5de2-4c30-8b81-30fc2572065f",
   "metadata": {},
   "outputs": [],
   "source": [
    "df.columns"
   ]
  },
  {
   "cell_type": "code",
   "execution_count": null,
   "id": "e950111a-1b89-47a5-92d5-939f7090972a",
   "metadata": {},
   "outputs": [],
   "source": []
  },
  {
   "cell_type": "code",
   "execution_count": null,
   "id": "82550203-6a1d-41cd-97e5-39ea7cb33b32",
   "metadata": {},
   "outputs": [],
   "source": []
  },
  {
   "cell_type": "code",
   "execution_count": null,
   "id": "fb6dba1d-df7a-408e-8e70-ff6dad0d659a",
   "metadata": {},
   "outputs": [],
   "source": []
  },
  {
   "cell_type": "code",
   "execution_count": null,
   "id": "01e7eea7-0b64-4403-b27b-3a7b9d5a06ae",
   "metadata": {},
   "outputs": [],
   "source": []
  },
  {
   "cell_type": "code",
   "execution_count": null,
   "id": "5f7a1ffa-f338-4d76-a819-552298f495b9",
   "metadata": {},
   "outputs": [],
   "source": []
  },
  {
   "cell_type": "code",
   "execution_count": null,
   "id": "c15ba3a4-dc79-4e4f-b276-85be7f3ed679",
   "metadata": {},
   "outputs": [],
   "source": []
  },
  {
   "cell_type": "code",
   "execution_count": null,
   "id": "6dac0872-f7c3-4ae9-8323-bb5ce58341b2",
   "metadata": {},
   "outputs": [],
   "source": []
  },
  {
   "cell_type": "code",
   "execution_count": null,
   "id": "e640efa4-7b40-412a-8720-f56da56a8bcf",
   "metadata": {},
   "outputs": [],
   "source": []
  },
  {
   "cell_type": "code",
   "execution_count": null,
   "id": "f69a094c-fda9-42ef-8e92-5e2fbaa6ab51",
   "metadata": {},
   "outputs": [],
   "source": []
  },
  {
   "cell_type": "code",
   "execution_count": null,
   "id": "43584ef8-d4eb-44a7-928a-1230085b5cd0",
   "metadata": {},
   "outputs": [],
   "source": []
  }
 ],
 "metadata": {
  "kernelspec": {
   "display_name": "Python 3 (ipykernel)",
   "language": "python",
   "name": "python3"
  },
  "language_info": {
   "codemirror_mode": {
    "name": "ipython",
    "version": 3
   },
   "file_extension": ".py",
   "mimetype": "text/x-python",
   "name": "python",
   "nbconvert_exporter": "python",
   "pygments_lexer": "ipython3",
   "version": "3.9.7"
  }
 },
 "nbformat": 4,
 "nbformat_minor": 5
}
