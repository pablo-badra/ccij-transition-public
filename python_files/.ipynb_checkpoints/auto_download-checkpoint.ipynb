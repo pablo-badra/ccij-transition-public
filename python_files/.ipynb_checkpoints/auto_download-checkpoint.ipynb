{
 "cells": [
  {
   "cell_type": "code",
   "execution_count": 91,
   "id": "ca64bea2-3a8a-434f-9baa-b594e7952783",
   "metadata": {},
   "outputs": [],
   "source": [
    "import pandas as pd\n",
    "import numpy as np\n",
    "import seaborn as sns\n",
    "import matplotlib.pyplot as plt\n",
    "\n",
    "pd.options.display.max_columns = 30\n",
    "pd.options.display.max_rows = 1050\n"
   ]
  },
  {
   "cell_type": "markdown",
   "id": "168e63a3-e45b-4e2c-b539-98e3d0a39e75",
   "metadata": {},
   "source": [
    "creating the dataframe"
   ]
  },
  {
   "cell_type": "code",
   "execution_count": null,
   "id": "42774543-a585-4790-992e-98495a7f0664",
   "metadata": {},
   "outputs": [],
   "source": [
    "def openFile(x, detentionCenter):\n",
    "    file = pd.read_csv(\n",
    "        r\"/Users/stjames/Dropbox/Pablo/data/weekly data transfer/\" + str(detentionCenter) + \"/\" + str(x) + \".csv\",\n",
    "        header=0, index_col='record_id',usecols=['record_id', str(x)])\n",
    "    file = file.loc[~file.index.duplicated(),:]\n",
    "    \n",
    "    return file\n",
    "\n",
    "def openMVDFFile(x):\n",
    "    return pd.read_csv(\n",
    "        r\"/Users/stjames/Dropbox/Pablo/data/weekly data transfer/mvdf/\" + str(x) + \".csv\",\n",
    "        header=0, usecols=['record_id', 'comment'])\n",
    "\n",
    "def formMVDF_t():\n",
    "    # this will be the column to demonstrate transfers\n",
    "    names = ['gsa', 'golden', 'transferGsa', 'transferGolden']\n",
    "\n",
    "    gsa, golden, transferGsa, transferGolden = [openMVDFFile(x) for x in names]\n",
    "\n",
    "    gsaJoin = pd.concat([gsa, transferGsa])\n",
    "    goldenJoin = pd.concat([golden, transferGolden])\n",
    "    mvdf_t = pd.concat([goldenJoin,gsaJoin])\n",
    "    mvdf_t = mvdf_t.drop_duplicates()\n",
    "    mvdf_t.reset_index(inplace=True)\n",
    "    mvdf_t.drop(labels='index', axis=1, inplace=True)\n",
    "\n",
    "    return mvdf_t\n",
    "\n",
    "def case_event(detentionCenter):\n",
    "    \n",
    "    casetype_open = pd.read_csv(r\"/Users/stjames/Dropbox/Pablo/data/weekly data transfer/\" + str(detentionCenter) + \"/\" +\"casetype_open.csv\",\n",
    "                                usecols=['record_id', 'casetype_id', 'opened', 'closed', 'caseregisters_id'])\n",
    "    casetype_closed = pd.read_csv(r\"/Users/stjames/Dropbox/Pablo/data/weekly data transfer/\" + str(detentionCenter) + \"/\" +\"casetype_closed.csv\",\n",
    "                                usecols=['record_id', 'casetype_id', 'opened', 'closed', 'caseregisters_id'])\n",
    "    df = pd.concat([casetype_open, casetype_closed])\n",
    "    df = df.set_index(['record_id','casetype_id'])\n",
    "    df.sort_index(inplace=True)\n",
    "    df = df.loc[~df.index.duplicated(), :]\n",
    "    \n",
    "    return df\n",
    "    \n",
    "\n",
    "def openOG(detentionCenter):\n",
    "    df = pd.read_csv(\n",
    "        r\"/Users/stjames/Dropbox/Pablo/data/weekly data transfer/\" + str(detentionCenter) + \"/opened.csv\",\n",
    "        header=0, usecols=['record_id', 'firstName', 'lastName', 'caseaction_id'])\n",
    "    df = df.loc[~df.record_id.duplicated(), :]\n",
    "    return df\n",
    "\n",
    "def combine(detentionCenter, colsStr):\n",
    "    opened = openOG(detentionCenter)\n",
    "    opened = opened.set_index('record_id')\n",
    "    case = case_event(detentionCenter)\n",
    "    aNum, address, city, county, state, zip, gender_id, DOB, birth_country_id, ethnicity, race, language_id, immigration_status_id, initiated_date, pob = [\n",
    "        openFile(x, detentionCenter) for x in colsStr]\n",
    "    # this was a great way to open many files at once\n",
    "    cols = aNum, address, city, county, state, zip, gender_id, DOB, birth_country_id, ethnicity, race, language_id, immigration_status_id, initiated_date, pob\n",
    "\n",
    "    joined = opened.join(cols)\n",
    "    joined = joined.reset_index()\n",
    "    #joined['record_id'] = joined['index']\n",
    "    #joined.drop(labels='index', axis=1, inplace=True)\n",
    "    joined = joined.loc[~joined.record_id.duplicated(), :]\n",
    "    \n",
    "    case = case.reset_index()\n",
    "    \n",
    "    df = case.merge(joined, on='record_id')\n",
    "    \n",
    "    return df\n",
    "\n",
    "def mvdfCombine(mvdf_t, detentionCenter, colsStr):\n",
    "    transfers = mvdf_t.set_index('record_id')\n",
    "    opened = openOG(detentionCenter)\n",
    "    opened = opened.set_index('record_id')\n",
    "    case = case_event(detentionCenter)\n",
    "    aNum, address, city, county, state, zip, gender_id, DOB, birth_country_id, ethnicity, race, language_id, immigration_status_id, initiated_date, pob = [\n",
    "        openFile(x, detentionCenter) for x in colsStr]\n",
    "    # this was a great way to open many files at once\n",
    "        \n",
    "    cols = aNum, address, city, county, state, zip, gender_id, DOB, birth_country_id, ethnicity, race, language_id, immigration_status_id, initiated_date, pob, transfers\n",
    "\n",
    "    joined = opened.join(cols)\n",
    "    joined = joined.reset_index()\n",
    "    #joined['record_id'] = joined['index']\n",
    "    #joined.drop(labels='index', axis=1, inplace=True)\n",
    "    joined = joined.loc[~joined.record_id.duplicated(), :]\n",
    "        \n",
    "    case = case.reset_index()\n",
    "    df = case.merge(joined, on='record_id')\n",
    "    \n",
    "    return df"
   ]
  },
  {
   "cell_type": "code",
   "execution_count": 93,
   "id": "026d9870-2ba1-4818-bbf7-b1679752eb10",
   "metadata": {
    "tags": []
   },
   "outputs": [],
   "source": [
    "colsStr = [\"aNum\", \"address\", \"city\", \"county\", \"state\", \"zip\", \"gender_id\", \"DOB\", \"birth_country_id\", \"ethnicity\",\n",
    "           \"race\", \"language_id\", \"immigration_status_id\", \"initiated_date\", \"pob\"]\n",
    "corCol = {'opened':'lawlab_opened', 'firstName':'first_name', 'lastName':'last_name', 'caseaction_id':'cohort', 'aNum':'a_number', 'gender_id':'gender', 'birth_country_id':'country_of_birth', 'language_id':'language', 'immigration_status_id':'immigration_status', 'initiated_date':'date_detained', 'closed':'lawlab_closed', 'comment':'transfers', 'casetype_id':'casetype'}\n",
    "corCity = {'Pamona': 'Pomona', 'Azuza': 'Azusa', 'Monte': 'El Monte', 'El Puente': 'La Puente', 'Santa Barbera': 'Santa Barbera', 'San Francico': 'San Francisco', 'Anahaim': 'Anaheim', 'Colinga': 'Coalinga', 'Westminister': 'Westminster', 'Fondana': 'Fontana', 'Vajello': 'Vcltejo', 'Pittsburgh': 'Pittsburg',}\n",
    "corCountry = {'CHINA':'China, Peoples Republic of', \"LAO PEOPLE'S DEMOCRATIC REPUBLIC\":'Laos', 'MOLDOVA, REPUBLIC OF':'Moldova', 'AMERICAN SAMOA':'Samoa', 'CZECH REPUBLIC':'Czechia (Czech Republic)'}\n",
    "corCohort = {'@Golden State':'GOLDEN STATE ANNEX', '@MVDF':'Mesa Verde Detention Facility', '@Yuba':'YUBA COUNTY FACILITY'}\n",
    "corImm = {'No Lawful Status / No Estatus Legal':'Undocumented', 'LPR (Lawful Permanent Resident) / (Residente Legal Permanente)':'LPR', 'Unknown / Desconocidx':'Unknown', 'Other / Otro':'Other', 'Asylee / Asiladx':'Asylee'}\n",
    "corGender = {'Non-binary':'Nonbinary'}\n",
    "corCasetype = {'Golden State KYR - Golden State Detention Visits':'GSA_KYR', 'MVDF KYR - Detention Visit (Centro)':'MVDF_KYR_CENTRO', \n",
    "               'AOD - Detained Attorney of the Day':'AOD', 'CCIJ Yuba KYR - Yuba Detention Visits':'YCJ_KYR', 'Hotline - CCIJ Hotline Calls':'HOTLINE',\n",
    "               'RO-VD (AOD) - AOD Removals/Voluntary Departure':'RO_VD_AOD', 'Referrals - Referrals to CCIJ':'REFERRALS', 'RAPID RESPONSE - Regional Rapid Response':'RRR',\n",
    "               'AB32 MVDF - AB32 Coordination':'AB32_MVDF', 'SFPD - SF Public Defender':'SFPD'}\n",
    "corCounty = {'San Bernadino':'San Bernardino'}"
   ]
  },
  {
   "cell_type": "code",
   "execution_count": 94,
   "id": "5de41265-9946-49e2-95dd-7f0a69404034",
   "metadata": {
    "tags": []
   },
   "outputs": [],
   "source": [
    "mvdf_t = formMVDF_t()\n",
    "mvdf = mvdfCombine(mvdf_t, \"mvdf\", colsStr)\n",
    "yuba = combine(\"yuba\", colsStr)\n"
   ]
  },
  {
   "cell_type": "code",
   "execution_count": 95,
   "id": "83e9a2b4-85a6-4b1d-8e17-5c4f81f1d7b3",
   "metadata": {
    "tags": []
   },
   "outputs": [],
   "source": [
    "gsa = combine(\"gsa\", colsStr)\n"
   ]
  },
  {
   "cell_type": "code",
   "execution_count": 96,
   "id": "2ade1ce7-0276-4eba-adfc-11c7e69a33c6",
   "metadata": {
    "jupyter": {
     "source_hidden": true
    },
    "tags": []
   },
   "outputs": [],
   "source": [
    "clt = pd.concat([gsa, mvdf, yuba])\n",
    "clt.reset_index(inplace=True)\n",
    "clt.drop(labels='index', axis=1, inplace=True)"
   ]
  },
  {
   "cell_type": "code",
   "execution_count": 97,
   "id": "d6188aab-9123-4975-b0a7-73415fb5ecd6",
   "metadata": {
    "jupyter": {
     "source_hidden": true
    },
    "tags": []
   },
   "outputs": [],
   "source": [
    "clt = clt.rename(mapper=corCol, axis=1)\n",
    "clt['a_number'] = clt['a_number'].astype('str')\n",
    "\n",
    "clt['county']=clt['county'].str.title()\n",
    "clt['county'] = clt['county'].where(clt['county']!=\"Unknown\")\n",
    "clt['city']=clt['city'].str.title()\n",
    "clt['pob']=clt['pob'].str.title()\n",
    "clt['zip']=clt['zip'].astype('str')\n",
    "\n",
    "clt.loc[~clt.county.isna(),'county'] = clt.loc[~clt.county.isna(),'county'].replace(to_replace='(\\s+County)', value='', regex=True).replace(to_replace='(\\s+County)', value='', regex=True)\n",
    "\n",
    "clt['city'].replace(to_replace=corCity, value=None, inplace=True)\n",
    "clt['county'].replace(to_replace=corCounty, value=None, inplace=True)\n",
    "clt['country_of_birth'].replace(to_replace=corCountry, value=None, inplace=True)\n",
    "clt['cohort'].replace(to_replace=corCohort, value=None, inplace=True)\n",
    "clt['immigration_status'].replace(to_replace=corImm, value=None, inplace=True)  \n",
    "clt['gender'].replace(to_replace=corGender, value=None, inplace=True)\n",
    "clt['casetype'].replace(to_replace=corCasetype, value=None, inplace=True)\n",
    "clt['presumed_detained'] = clt['lawlab_closed']\n",
    "clt['presumed_detained'].replace(to_replace=r'(.+)', value=False, inplace=True, regex=True)\n",
    "clt['presumed_detained'].fillna(value=True, inplace=True)\n",
    "\n",
    "clt['lawlab_opened'] = pd.to_datetime(clt['lawlab_opened'])\n",
    "clt['DOB'] = pd.to_datetime(clt['DOB'])\n",
    "\n"
   ]
  },
  {
   "cell_type": "code",
   "execution_count": 98,
   "id": "90a30ea1-fb26-4d0a-bc96-280063321db3",
   "metadata": {
    "tags": []
   },
   "outputs": [],
   "source": [
    "clt = clt.set_index(['record_id','casetype'])"
   ]
  },
  {
   "cell_type": "code",
   "execution_count": 99,
   "id": "d109a71e-08a6-4e61-b931-097ced72e02f",
   "metadata": {
    "tags": []
   },
   "outputs": [],
   "source": [
    "casetypes = ['GSA_KYR','MVDF_KYR_CENTRO','AOD', 'YCJ_KYR', 'HOTLINE', 'RO_VD_AOD', 'REFERRALS', 'RRR', 'AB32_MVDF', 'SFPD']\n",
    "index_slice = ['GSA_KYR','AOD', 'YCJ_KYR', 'HOTLINE', 'RO_VD_AOD', 'REFERRALS', 'RRR', 'AB32_MVDF', 'SFPD']"
   ]
  },
  {
   "cell_type": "code",
   "execution_count": 100,
   "id": "24cd4a13-26b5-44e6-af57-8259d8abecb8",
   "metadata": {
    "jupyter": {
     "source_hidden": true
    },
    "tags": []
   },
   "outputs": [],
   "source": [
    "no_centro = clt.loc[(slice(None), index_slice), :]"
   ]
  },
  {
   "cell_type": "code",
   "execution_count": 101,
   "id": "63ce4f7f-5a57-4a9d-8314-d6265d1bfbc5",
   "metadata": {
    "tags": []
   },
   "outputs": [],
   "source": [
    "kk_gsa = (clt['cohort']=='GOLDEN STATE ANNEX') & (clt['lawlab_opened']>='2020-09-01')\n",
    "kk_mvdf = (clt['cohort']=='Mesa Verde Detention Facility') & (~clt['transfers'].isna())\n",
    "kk_ycj = (clt['cohort']=='YUBA COUNTY FACILITY') & (clt['lawlab_opened']>='2020-01-01')"
   ]
  },
  {
   "cell_type": "code",
   "execution_count": 102,
   "id": "1c905a1c-2f48-4c3a-ad17-39b0857f46c6",
   "metadata": {
    "tags": []
   },
   "outputs": [],
   "source": [
    "kk_crit = clt[kk_gsa | kk_mvdf | kk_ycj]"
   ]
  },
  {
   "cell_type": "code",
   "execution_count": 103,
   "id": "c5042657-8c1e-44fb-8194-c7b338f2c43f",
   "metadata": {
    "tags": []
   },
   "outputs": [],
   "source": [
    "df = kk_crit.reset_index()"
   ]
  },
  {
   "cell_type": "code",
   "execution_count": 104,
   "id": "42a6a5ff-03c8-4b54-ad81-09771959f98a",
   "metadata": {
    "tags": []
   },
   "outputs": [],
   "source": [
    "df = df.loc[:,['record_id','caseregisters_id','first_name','last_name','a_number']]"
   ]
  },
  {
   "cell_type": "markdown",
   "id": "e18bc560-0eaf-4a23-aff0-36402191dd93",
   "metadata": {},
   "source": [
    "creating the folders"
   ]
  },
  {
   "cell_type": "code",
   "execution_count": 105,
   "id": "e2dd6340-16d5-4bb7-a214-383c18ccf4b2",
   "metadata": {},
   "outputs": [],
   "source": [
    "import os"
   ]
  },
  {
   "cell_type": "code",
   "execution_count": 106,
   "id": "fd75821a-4ff7-4b5b-b6eb-e23d2d48f432",
   "metadata": {},
   "outputs": [],
   "source": [
    "def create_folder(df):\n",
    "    parent_dir = '/Users/stjames/Dropbox/Pablo/data/ll_batch_download'\n",
    "    for x in df.record_id.values:\n",
    "        path = os.path.join(parent_dir,str(x))\n",
    "        os.mkdir(path)\n",
    "        "
   ]
  },
  {
   "cell_type": "markdown",
   "id": "bbec3f87-2459-47e9-bf97-06bca4149479",
   "metadata": {},
   "source": [
    "change the markdown below to code when ready to do again"
   ]
  },
  {
   "cell_type": "markdown",
   "id": "baad6cff-47c4-45ab-9e0b-d89440ca9686",
   "metadata": {},
   "source": [
    "create_folder(df)"
   ]
  },
  {
   "cell_type": "markdown",
   "id": "86d03699-3a92-4806-b277-448634e493e7",
   "metadata": {},
   "source": [
    "downloading the file"
   ]
  },
  {
   "cell_type": "code",
   "execution_count": 107,
   "id": "c50e0521-e115-4d2c-b1d9-5d3fc13c2b6d",
   "metadata": {},
   "outputs": [],
   "source": [
    "df = df.set_index('record_id')"
   ]
  },
  {
   "cell_type": "code",
   "execution_count": 108,
   "id": "fb5343b1-7193-4eb3-ab2c-33265251d841",
   "metadata": {},
   "outputs": [],
   "source": [
    "df = df[:20]"
   ]
  },
  {
   "cell_type": "code",
   "execution_count": null,
   "id": "a92e70a3-0f94-45e7-8880-eea3bb7f65ec",
   "metadata": {},
   "outputs": [],
   "source": [
    "import selenium\n",
    "from selenium import webdriver\n",
    "from selenium.webdriver.common.by import By\n",
    "from selenium.webdriver.chrome.options import Options\n",
    "import time\n",
    "import os"
   ]
  },
  {
   "cell_type": "code",
   "execution_count": null,
   "id": "87ae3078-f607-4c9c-8dfe-2c05b3a5782b",
   "metadata": {},
   "outputs": [],
   "source": [
    "os.getcwd()"
   ]
  },
  {
   "cell_type": "code",
   "execution_count": null,
   "id": "c48cd805-6f7d-45a0-b162-b07d92b11dde",
   "metadata": {},
   "outputs": [],
   "source": [
    "chromedriver = '/Users/stjames/Documents/chromedriver'\n",
    "driver = webdriver.Chrome(chromedriver)"
   ]
  },
  {
   "cell_type": "code",
   "execution_count": null,
   "id": "47a14e72-18fd-4770-886a-dbddeebf682a",
   "metadata": {},
   "outputs": [],
   "source": [
    "for x,y in df.caseregisters_id.items():\n",
    "        folder = '/Users/stjames/Dropbox/Pablo/data/ll_batch_download/'+str(x)\n",
    "        url = 'https://ccij-cdb.innovationlawlab.org/records/'+str(x)+'/case/'+str(y)\n",
    "        op = Options()\n",
    "        op.add_experimental_option('prefs',{'download.default_directory':folder})\n",
    "        chromedriver = '/Users/stjames/Documents/chromedriver'\n",
    "        driver = webdriver.Chrome(chromedriver, chrome_options=op)\n",
    "        driver.implicitly_wait(10)\n",
    "        driver.get(url)\n",
    "        driver.find_element(By.XPATH,'//*[@id=\"user_login\"]').send_keys('pablo-ccij')\n",
    "        driver.find_element(By.XPATH,'//*[@id=\"user_password\"]').send_keys('Clement3!')\n",
    "        driver.find_element(By.XPATH,'//*[@id=\"loginform\"]/button/span').click()\n",
    "        time.sleep(3)\n",
    "        driver.find_element(By.XPATH, '//div/div/div[3]/button').click()\n",
    "        time.sleep(.5)\n",
    "        driver.find_element(By.XPATH, '//div/main/div/div/div[2]/div/div[2]/nav/div/div[3]').click()\n",
    "        time.sleep(.5)\n",
    "        driver.find_element(By.XPATH,'//div/div[2]/a').click()\n",
    "        time.sleep(15)"
   ]
  },
  {
   "cell_type": "code",
   "execution_count": null,
   "id": "cfcaf7c6-0865-43eb-92d0-2f12ef5d9946",
   "metadata": {
    "tags": []
   },
   "outputs": [],
   "source": [
    "import selenium\n",
    "from selenium import webdriver\n",
    "from selenium.webdriver.common.by import By\n",
    "from selenium.webdriver.chrome.options import Options\n",
    "from csv import DictReader\n",
    "import pickle\n",
    "import pprint"
   ]
  },
  {
   "cell_type": "code",
   "execution_count": null,
   "id": "f9db70d3-db5a-4a65-864c-aab84c9f79ec",
   "metadata": {
    "tags": []
   },
   "outputs": [],
   "source": [
    "cookies_location = 'cookies.txt'\n",
    "\n",
    "def save_cookies(driver, location):\n",
    "\n",
    "    pickle.dump(driver.get_cookies(), open(location, \"wb\"))\n",
    "\n",
    "\n",
    "def load_cookies(driver, location, url):\n",
    "\n",
    "    cookies = pickle.load(open(location, \"rb\"))\n",
    "    driver.delete_all_cookies()\n",
    "    # have to be on a page before you can add any cookies, any page - does not matter which\n",
    "    driver.get(url)\n",
    "    for cookie in cookies:\n",
    "        if isinstance(cookie.get('expiry'), float):#Checks if the instance expiry a float \n",
    "            cookie['expiry'] = int(cookie['expiry'])# it converts expiry cookie to a int \n",
    "        driver.add_cookie(cookie)\n",
    "\n",
    "\n",
    "def delete_cookies(driver, domains=None):\n",
    "\n",
    "    if domains is not None:\n",
    "        cookies = driver.get_cookies()\n",
    "        original_len = len(cookies)\n",
    "        for cookie in cookies:\n",
    "            if str(cookie[\"domain\"]) in domains:\n",
    "                cookies.remove(cookie)\n",
    "        if len(cookies) < original_len:  # if cookies changed, we will update them\n",
    "            # deleting everything and adding the modified cookie object\n",
    "            driver.delete_all_cookies()\n",
    "            for cookie in cookies:\n",
    "                driver.add_cookie(cookie)\n",
    "    else:\n",
    "        driver.delete_all_cookies()"
   ]
  },
  {
   "cell_type": "code",
   "execution_count": null,
   "id": "1c174035-3678-4fd1-8f7e-67192fe4ca28",
   "metadata": {},
   "outputs": [],
   "source": [
    "# Initial load of the domain that we want to save cookies for\n",
    "\n",
    "url = 'https://ccij-cdb.innovationlawlab.org/records/20220193/case/5686'\n",
    "\n",
    "chromedriver = '/Users/stjames/Documents/chromedriver'\n",
    "driver = webdriver.Chrome(chromedriver)\n",
    "driver.get(url)\n",
    "driver.find_element(By.XPATH,'//*[@id=\"user_login\"]').send_keys('pablo-ccij')\n",
    "driver.find_element(By.XPATH,'//*[@id=\"user_password\"]').send_keys('Clement3!')\n",
    "driver.find_ele5ment(By.XPATH,'//*[@id=\"loginform\"]/button/span').click()\n",
    "\n",
    "save_cookies(driver, cookies_location)\n",
    "driver.quit()"
   ]
  },
  {
   "cell_type": "code",
   "execution_count": null,
   "id": "91d2242b-a9d1-48c9-afac-d27f8164cc01",
   "metadata": {},
   "outputs": [],
   "source": [
    "driver = webdriver.Chrome(chromedriver)\n",
    "load_cookies(driver, cookies_location, url)\n",
    "driver.get(url)\n",
    "time.sleep(3)\n",
    "driver.get(url)"
   ]
  },
  {
   "cell_type": "code",
   "execution_count": null,
   "id": "5f9dcb2b-91a5-44e6-872e-4c2b632dc4b7",
   "metadata": {},
   "outputs": [],
   "source": []
  },
  {
   "cell_type": "code",
   "execution_count": null,
   "id": "b669d76b-5d20-4b32-99c2-c7c76d94df24",
   "metadata": {},
   "outputs": [],
   "source": [
    "import zipfile\n",
    "import os"
   ]
  },
  {
   "cell_type": "code",
   "execution_count": null,
   "id": "7386286a-a43d-4f28-af45-147c0600afc3",
   "metadata": {},
   "outputs": [],
   "source": [
    "os.chdir('/Users/stjames/Dropbox/Pablo/data/batch_download_test')"
   ]
  },
  {
   "cell_type": "code",
   "execution_count": null,
   "id": "f02936a3-0c19-40e4-be48-908e69382722",
   "metadata": {},
   "outputs": [],
   "source": [
    "from zipfile import ZipFile"
   ]
  },
  {
   "cell_type": "code",
   "execution_count": null,
   "id": "f6f53168-aebc-4fff-aae4-431607f8353c",
   "metadata": {},
   "outputs": [],
   "source": [
    "for x in os.listdir():\n",
    "    if x == '.DS_Store':\n",
    "        pass\n",
    "    else:\n",
    "        with ZipFile('/Users/stjames/Dropbox/Pablo/data/batch_download_test/'+x+'/download_all.zip', 'r') as zip_object:\n",
    "            zip_object.extractall(path='/Users/stjames/Dropbox/Pablo/data/batch_download_test/'+x+'/')"
   ]
  },
  {
   "cell_type": "code",
   "execution_count": null,
   "id": "e72f666f-3b69-4816-bb08-50d4d4c642ad",
   "metadata": {},
   "outputs": [],
   "source": [
    "for x in os.listdir():\n",
    "    if x == '.DS_Store':\n",
    "        pass\n",
    "    else:\n",
    "        os.remove('/Users/stjames/Dropbox/Pablo/data/batch_download_test/'+x+'/download_all.zip')\n",
    "                  "
   ]
  },
  {
   "cell_type": "code",
   "execution_count": null,
   "id": "1238730d-83d7-44a3-b62f-0d852018b8c4",
   "metadata": {},
   "outputs": [],
   "source": [
    "cols = ['Contact.ExternalID', 'Body']\n",
    "df2 = pd.DataFrame(columns=cols)"
   ]
  },
  {
   "cell_type": "code",
   "execution_count": null,
   "id": "11876610-a94f-4b3d-a321-e070f56f882a",
   "metadata": {},
   "outputs": [],
   "source": [
    "for x, y in df.first_name.items():\n",
    "    df['Contact.ExternalID'][x]=str(x)\n",
    "for x in os.listdir():\n",
    "    df['Body'][x]='batch_download_test/'+str(x)+'/24982'"
   ]
  },
  {
   "cell_type": "code",
   "execution_count": 121,
   "id": "00b828a5-0859-4405-9398-0ebc0a087d46",
   "metadata": {},
   "outputs": [],
   "source": [
    "df2 = df.loc[:,['first_name', 'last_name']]\n",
    "df2.index = df2.index.astype(str)"
   ]
  },
  {
   "cell_type": "code",
   "execution_count": null,
   "id": "16cb1c03-a42e-4737-b91a-c777866c5454",
   "metadata": {},
   "outputs": [],
   "source": [
    "import re"
   ]
  },
  {
   "cell_type": "code",
   "execution_count": 133,
   "id": "dd4190c4-97f0-4dd9-bddd-a0b532999a94",
   "metadata": {},
   "outputs": [],
   "source": [
    "for top, files, dirs in os.walk(os.getcwd()):\n",
    "    if len(top) == 68:\n",
    "        m = re.search('\\d{8}', top)\n",
    "        r = m.group(0)\n",
    "        df2.loc[r, 'Contact.ExternalID'] = r\n",
    "        df2.loc[r,'Body'] = top\n",
    "        "
   ]
  },
  {
   "cell_type": "code",
   "execution_count": null,
   "id": "23ac9e67-3e8d-4918-b695-6bf2bc2bbaca",
   "metadata": {},
   "outputs": [],
   "source": []
  },
  {
   "cell_type": "code",
   "execution_count": 135,
   "id": "9d27c65b-6802-4c30-82b2-4d1e1b41d40f",
   "metadata": {},
   "outputs": [],
   "source": [
    "df2.to_csv('/Users/stjames/Dropbox/Pablo/data/batch_download.csv')"
   ]
  },
  {
   "cell_type": "code",
   "execution_count": null,
   "id": "58437245-1871-4a8b-973f-399ad8615c0d",
   "metadata": {
    "jupyter": {
     "source_hidden": true
    },
    "tags": []
   },
   "outputs": [],
   "source": [
    "len('/Users/stjames/Dropbox/Pablo/data/batch_download_test/20200550/25058')"
   ]
  },
  {
   "cell_type": "code",
   "execution_count": null,
   "id": "d98a1f33-a252-4862-96e7-a6e11219c949",
   "metadata": {},
   "outputs": [],
   "source": []
  }
 ],
 "metadata": {
  "kernelspec": {
   "display_name": "Python 3 (ipykernel)",
   "language": "python",
   "name": "python3"
  },
  "language_info": {
   "codemirror_mode": {
    "name": "ipython",
    "version": 3
   },
   "file_extension": ".py",
   "mimetype": "text/x-python",
   "name": "python",
   "nbconvert_exporter": "python",
   "pygments_lexer": "ipython3",
   "version": "3.9.7"
  }
 },
 "nbformat": 4,
 "nbformat_minor": 5
}
